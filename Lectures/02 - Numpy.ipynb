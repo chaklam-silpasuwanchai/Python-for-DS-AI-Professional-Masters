{
 "cells": [
  {
   "cell_type": "markdown",
   "metadata": {},
   "source": [
    "# Programming for Data Science and Artificial Intelligence\n",
    "\n",
    "## 2 Numpy\n",
    "\n",
    "### Readings: \n",
    "- [VANDER] Ch2\n",
    "- https://numpy.org/doc/stable/"
   ]
  },
  {
   "cell_type": "markdown",
   "metadata": {},
   "source": [
    "NumPy arrays are like Python's built-in list type, but NumPy arrays provide much more efficient storage and data operations as the arrays grow larger in size.\n",
    "\n",
    "A python list comes with overhead of determining its dynamic type and convert them back to C.  Unlike python list, Numpy is constrained to arrays that all contain the same type, thus removing that overhead."
   ]
  },
  {
   "cell_type": "code",
   "execution_count": 1,
   "metadata": {},
   "outputs": [
    {
     "data": {
      "text/plain": [
       "'1.19.4'"
      ]
     },
     "execution_count": 1,
     "metadata": {},
     "output_type": "execute_result"
    }
   ],
   "source": [
    "import numpy as np\n",
    "np.__version__"
   ]
  },
  {
   "cell_type": "markdown",
   "metadata": {},
   "source": [
    "## Creation"
   ]
  },
  {
   "cell_type": "markdown",
   "metadata": {},
   "source": [
    "From list"
   ]
  },
  {
   "cell_type": "code",
   "execution_count": 2,
   "metadata": {},
   "outputs": [
    {
     "name": "stdout",
     "output_type": "stream",
     "text": [
      "List to numpy:  [1 2 3 4]\n"
     ]
    }
   ],
   "source": [
    "l = [1, 2, 3, 4]\n",
    "l_numpy = np.array(l)\n",
    "print(\"List to numpy: \", l_numpy)"
   ]
  },
  {
   "cell_type": "markdown",
   "metadata": {},
   "source": [
    "Creating using np built-in functions"
   ]
  },
  {
   "cell_type": "code",
   "execution_count": 3,
   "metadata": {},
   "outputs": [
    {
     "name": "stdout",
     "output_type": "stream",
     "text": [
      "1: Np zeors:  [0 0 0 0 0 0 0 0 0 0]\n",
      "2: Np ones:  [[1. 1. 1. 1. 1.]\n",
      " [1. 1. 1. 1. 1.]\n",
      " [1. 1. 1. 1. 1.]]\n",
      "3: Np full:  [[3.14 3.14]\n",
      " [3.14 3.14]\n",
      " [3.14 3.14]\n",
      " [3.14 3.14]]\n",
      "4: Np linspace:  [0.   0.25 0.5  0.75 1.  ]\n",
      "5: Np logspace:  [ 10.          17.7827941   31.6227766   56.23413252 100.        ]\n",
      "6: Np diag:  [[0 0 0 0]\n",
      " [0 1 0 0]\n",
      " [0 0 2 0]\n",
      " [0 0 0 3]]\n",
      "7: Np eye:  [[1. 0. 0.]\n",
      " [0. 1. 0.]\n",
      " [0. 0. 1.]]\n",
      "8: Np empty:  [1. 1. 1.]\n"
     ]
    }
   ],
   "source": [
    "print(\"1: Np zeors: \", np.zeros(10, dtype=int))\n",
    "print(\"2: Np ones: \", np.ones((3,5), dtype=float))\n",
    "print(\"3: Np full: \", np.full((4,2), 3.14))\n",
    "\n",
    "#super handy\n",
    "#here, we create 5 equal-distanced values from 0 to 1\n",
    "print(\"4: Np linspace: \", np.linspace(0, 1, 5))\n",
    "\n",
    "#we also have log space 10^1, 10^?\n",
    "print(\"5: Np logspace: \", np.logspace(1, 2, 5))\n",
    "\n",
    "#diag\n",
    "print(\"6: Np diag: \", np.diag(np.arange(4)))\n",
    "\n",
    "#identity matrix with size 3 x 3 for computing inverse of matrix\n",
    "print(\"7: Np eye: \",np.eye(3))\n",
    "\n",
    "#if you just want a scratch array, use empty\n",
    "# values will be whatever already exists at that memory\n",
    "print(\"8: Np empty: \", np.empty(3))"
   ]
  },
  {
   "cell_type": "markdown",
   "metadata": {},
   "source": [
    "Creating with data types"
   ]
  },
  {
   "cell_type": "code",
   "execution_count": 4,
   "metadata": {},
   "outputs": [
    {
     "name": "stdout",
     "output_type": "stream",
     "text": [
      "1: Typecasting:  [1.3 2.  3.  4. ]\n",
      "2: Dtype:  [1. 2. 3. 4.]\n",
      "3: l_num_int32 using astype:  [1 2 3 4]\n"
     ]
    }
   ],
   "source": [
    "#if some is integer, some is float.  All will be upcasted to float\n",
    "l = [1.3, 2, 3, 4]\n",
    "l_numpy = np.array(l)\n",
    "print(\"1: Typecasting: \", l_numpy)\n",
    "\n",
    "#we can also expliclty define the type\n",
    "l = [1, 2, 3, 4]\n",
    "l_numpy_float = np.array(l, dtype='float32')\n",
    "print(\"2: Dtype: \", l_numpy_float)\n",
    "\n",
    "#astype, copy of the array, and cast to a specified type\n",
    "#astype is a function of every numpy array, NOT np method\n",
    "l_numpy_int32 = l_numpy_float.astype(int)\n",
    "print(\"3: l_num_int32 using astype: \", l_numpy_int32)"
   ]
  },
  {
   "cell_type": "markdown",
   "metadata": {},
   "source": [
    "Creating multi-dimensional numpy array"
   ]
  },
  {
   "cell_type": "code",
   "execution_count": 5,
   "metadata": {},
   "outputs": [
    {
     "name": "stdout",
     "output_type": "stream",
     "text": [
      "1: Multidimensional:  [[1 2]\n",
      " [3 4]]\n",
      "2: List comprehension:  [[2 3 4]\n",
      " [4 5 6]\n",
      " [6 7 8]]\n"
     ]
    }
   ],
   "source": [
    "l = [[1, 2], [3, 4]]\n",
    "l_numpy = np.array(l)\n",
    "print(\"1: Multidimensional: \", l_numpy)\n",
    "\n",
    "#we can also leverage the list comprehension method\n",
    "print(\"2: List comprehension: \", \n",
    "      np.array([range(i, i+3) for i in [2, 4, 6]]))"
   ]
  },
  {
   "cell_type": "markdown",
   "metadata": {},
   "source": [
    "Creating randomized numpy arrays"
   ]
  },
  {
   "cell_type": "code",
   "execution_count": 6,
   "metadata": {},
   "outputs": [
    {
     "name": "stdout",
     "output_type": "stream",
     "text": [
      "1: Randomize [0, 1) [[0.21651616 0.66468694 0.82305512]\n",
      " [0.83835798 0.12847361 0.07126763]\n",
      " [0.11523168 0.84905677 0.40732162]]\n",
      "2: Random integers [0, 10) [[8 0 4]\n",
      " [1 9 9]\n",
      " [6 2 6]]\n",
      "3: Normal dist. with m=0 and std=1 [[-0.84102303  0.43400673  0.68763132]\n",
      " [ 0.97907639  0.62335478 -1.75365615]\n",
      " [ 1.40990249 -0.8359568   0.84063445]]\n"
     ]
    }
   ],
   "source": [
    "#Return random floats in the half-open interval [0.0, 1.0)\n",
    "print(\"1: Randomize [0, 1)\", np.random.random((3,3)))  #randomize a 3x3 array between 0 and 1\n",
    "\n",
    "#random integers in the interval [0, 10)\n",
    "print(\"2: Random integers [0, 10)\", np.random.randint(0, 10, (3, 3)))\n",
    "\n",
    "#normal distribution with m=0 and std=1\n",
    "print(\"3: Normal dist. with m=0 and std=1\", np.random.normal(0, 1, (3, 3)))"
   ]
  },
  {
   "cell_type": "markdown",
   "metadata": {},
   "source": [
    "### ===Task===\n",
    "\n",
    "1. Declare a list of 1 to 4 using range()\n",
    "\n",
    "2. Continuing, create numpy array from this list, with dtype='float32'\n",
    "\n",
    "3. Create an numpy array of size 3 by 5 using np.zeros\n",
    "\n",
    "4. Create an numpy array of size 2 by 3 with filled value 1 / 3\n",
    "\n",
    "5. Create a list of 500 numbers for 0 to 10\n",
    "\n",
    "6. Create a list of number for 0.001, 0.01, 0.1, 1 using np.logspace\n",
    "\n",
    "7. Create a diagonal matrix of list [1, 2, 3, 4]\n",
    "\n",
    "8. Create a random array of size 4 by 5 all filled with random values between 0 and 1\n",
    "\n",
    "9.  Create a random array of size 4 by 5 all filled with integer random values between 2 and 5\n",
    "\n",
    "10.  Create a random array of size 4 by 5 all filled with float random values between 2 and 5\n",
    "\n",
    "11. Create a random array of size 4 by 5 with mean = 5, and std = 1 following a gaussian (normal) distribution\n",
    "\n",
    "12. Create an identity matrix of size 5 by 5"
   ]
  },
  {
   "cell_type": "markdown",
   "metadata": {},
   "source": [
    "## Attributes"
   ]
  },
  {
   "cell_type": "markdown",
   "metadata": {},
   "source": [
    "First let's discuss some useful array attributes. We'll start by defining three random arrays, a one-dimensional, two-dimensional, and three-dimensional array. We'll use NumPy's random number generator, which we will seed with a set value in order to ensure that the same random arrays are generated each time this code is run:"
   ]
  },
  {
   "cell_type": "code",
   "execution_count": 7,
   "metadata": {},
   "outputs": [
    {
     "name": "stdout",
     "output_type": "stream",
     "text": [
      "1D:  [5 8 9 5 0 0]\n",
      "2D:  [[1 7 6 9]\n",
      " [2 4 5 2]\n",
      " [4 2 4 7]]\n",
      "3D:  [[[7 9 1 7 0]\n",
      "  [6 9 9 7 6]\n",
      "  [9 1 0 1 8]\n",
      "  [8 3 9 8 7]]\n",
      "\n",
      " [[3 6 5 1 9]\n",
      "  [3 4 8 1 4]\n",
      "  [0 3 9 2 0]\n",
      "  [4 9 2 7 7]]\n",
      "\n",
      " [[9 8 6 9 3]\n",
      "  [7 7 4 5 9]\n",
      "  [3 6 8 0 2]\n",
      "  [7 7 9 7 3]]]\n"
     ]
    }
   ],
   "source": [
    "import numpy as np\n",
    "np.random.seed(1) #seed for reproducibility\n",
    "\n",
    "x1 = np.random.randint(10, size = 6) #one dimensional array\n",
    "print(\"1D: \", x1)\n",
    "x2 = np.random.randint(10, size = (3, 4)) #two \n",
    "print(\"2D: \", x2)\n",
    "x3 = np.random.randint(10, size = (3, 4, 5)) #three\n",
    "print(\"3D: \", x3)"
   ]
  },
  {
   "cell_type": "markdown",
   "metadata": {},
   "source": [
    "Dim"
   ]
  },
  {
   "cell_type": "code",
   "execution_count": 8,
   "metadata": {},
   "outputs": [
    {
     "name": "stdout",
     "output_type": "stream",
     "text": [
      "Dim: X1: 1, X2: 2, X3: 3\n"
     ]
    }
   ],
   "source": [
    "#observe the bracket in front to easily determine the dimension\n",
    "#or simply use ndim\n",
    "print(f\"Dim: X1: {x1.ndim}, X2: {x2.ndim}, X3: {x3.ndim}\")"
   ]
  },
  {
   "cell_type": "markdown",
   "metadata": {},
   "source": [
    "Shape"
   ]
  },
  {
   "cell_type": "code",
   "execution_count": 9,
   "metadata": {},
   "outputs": [
    {
     "name": "stdout",
     "output_type": "stream",
     "text": [
      "Shape: X1: (6,), X2: (3, 4), X3: (3, 4, 5)\n"
     ]
    }
   ],
   "source": [
    "#to observe the size of each dimension, use shape\n",
    "#shape will be your most likely companion throughout your coding exp.\n",
    "print(f\"Shape: X1: {x1.shape}, X2: {x2.shape}, X3: {x3.shape}\")"
   ]
  },
  {
   "cell_type": "markdown",
   "metadata": {},
   "source": [
    "Len"
   ]
  },
  {
   "cell_type": "code",
   "execution_count": 10,
   "metadata": {},
   "outputs": [
    {
     "name": "stdout",
     "output_type": "stream",
     "text": [
      "Len (but only first dim!): X1: 6, X2: 3, X3: 3\n"
     ]
    }
   ],
   "source": [
    "print(f\"Len (but only first dim!): X1: {len(x1)}, X2: {len(x2)}, X3: {len(x3)}\")"
   ]
  },
  {
   "cell_type": "markdown",
   "metadata": {},
   "source": [
    "Size"
   ]
  },
  {
   "cell_type": "code",
   "execution_count": 11,
   "metadata": {},
   "outputs": [
    {
     "name": "stdout",
     "output_type": "stream",
     "text": [
      "Size: X1: 6, X2: 12, X3: 60\n"
     ]
    }
   ],
   "source": [
    "#to get number of elements, use ize\n",
    "print(f\"Size: X1: {x1.size}, X2: {x2.size}, X3: {x3.size}\")"
   ]
  },
  {
   "cell_type": "markdown",
   "metadata": {},
   "source": [
    "Dtypes"
   ]
  },
  {
   "cell_type": "code",
   "execution_count": 12,
   "metadata": {},
   "outputs": [
    {
     "name": "stdout",
     "output_type": "stream",
     "text": [
      "Dtype: X1: int64, X2: int64, X3: int64\n"
     ]
    }
   ],
   "source": [
    "print(f\"Dtype: X1: {x1.dtype}, X2: {x2.dtype}, X3: {x3.dtype}\")"
   ]
  },
  {
   "cell_type": "markdown",
   "metadata": {},
   "source": [
    "## Indexing and Slicing"
   ]
  },
  {
   "cell_type": "markdown",
   "metadata": {},
   "source": [
    "Basic indexing"
   ]
  },
  {
   "cell_type": "code",
   "execution_count": 13,
   "metadata": {},
   "outputs": [
    {
     "name": "stdout",
     "output_type": "stream",
     "text": [
      "1: X1:  [5 8 9 5 0 0]\n",
      "2: X1 first element:  5\n",
      "3: X1 first two elements:  [5 8]\n",
      "4: X1 last element:  0\n",
      "5: X1 last two element:  [0 0]\n"
     ]
    }
   ],
   "source": [
    "print(\"1: X1: \", x1)\n",
    "print(\"2: X1 first element: \", x1[0])\n",
    "print(\"3: X1 first two elements: \", x1[:2])\n",
    "print(\"4: X1 last element: \", x1[-1])\n",
    "print(\"5: X1 last two element: \", x1[-2:])"
   ]
  },
  {
   "cell_type": "markdown",
   "metadata": {},
   "source": [
    "2D array access"
   ]
  },
  {
   "cell_type": "code",
   "execution_count": 14,
   "metadata": {},
   "outputs": [
    {
     "name": "stdout",
     "output_type": "stream",
     "text": [
      "1: X2:  [[1 7 6 9]\n",
      " [2 4 5 2]\n",
      " [4 2 4 7]]\n",
      "2: X2 default access row-wise:  [1 7 6 9]\n",
      "3: X2 first row, third col:  6\n",
      "4: X2 first row, last col:  9\n",
      "5: X2 every row, last two col:  [[6 9]\n",
      " [5 2]\n",
      " [4 7]]\n",
      "6: X2 reversed:  [[7 4 2 4]\n",
      " [2 5 4 2]\n",
      " [9 6 7 1]]\n",
      "7: X2 last two rows, every even col:  [[4 2]\n",
      " [2 7]]\n"
     ]
    }
   ],
   "source": [
    "print(\"1: X2: \", x2)\n",
    "print(\"2: X2 default access row-wise: \", x2[0])\n",
    "print(\"3: X2 first row, third col: \", x2[0, 2])\n",
    "print(\"4: X2 first row, last col: \", x2[0, -1])\n",
    "print(\"5: X2 every row, last two col: \", x2[:, -2:])\n",
    "print(\"6: X2 reversed: \", x2[::-1, ::-1])\n",
    "print(\"7: X2 last two rows, every even col: \", x2[-2:, 1::2])"
   ]
  },
  {
   "cell_type": "markdown",
   "metadata": {},
   "source": [
    "3D array access"
   ]
  },
  {
   "cell_type": "code",
   "execution_count": 15,
   "metadata": {},
   "outputs": [
    {
     "name": "stdout",
     "output_type": "stream",
     "text": [
      "1: X3:  [[[7 9 1 7 0]\n",
      "  [6 9 9 7 6]\n",
      "  [9 1 0 1 8]\n",
      "  [8 3 9 8 7]]\n",
      "\n",
      " [[3 6 5 1 9]\n",
      "  [3 4 8 1 4]\n",
      "  [0 3 9 2 0]\n",
      "  [4 9 2 7 7]]\n",
      "\n",
      " [[9 8 6 9 3]\n",
      "  [7 7 4 5 9]\n",
      "  [3 6 8 0 2]\n",
      "  [7 7 9 7 3]]]\n",
      "2: X3 default access row-wise:  [[7 9 1 7 0]\n",
      " [6 9 9 7 6]\n",
      " [9 1 0 1 8]\n",
      " [8 3 9 8 7]]\n",
      "3: X3 first sheet, third row, last col:  8\n",
      "4: X3 second sheet, first two rows, last two cols:  [[1 9]\n",
      " [1 4]]\n",
      "5: X3 second sheet, everything, everything (essentially converting to 2D - very useful):  [[3 6 5 1 9]\n",
      " [3 4 8 1 4]\n",
      " [0 3 9 2 0]\n",
      " [4 9 2 7 7]]\n",
      "6: X3 second sheet, without : :  [[3 6 5 1 9]\n",
      " [3 4 8 1 4]\n",
      " [0 3 9 2 0]\n",
      " [4 9 2 7 7]]\n"
     ]
    }
   ],
   "source": [
    "print(\"1: X3: \", x3)\n",
    "print(\"2: X3 default access row-wise: \", x3[0])\n",
    "print(\"3: X3 first sheet, third row, last col: \", x3[0, 2, -1])\n",
    "print(\"4: X3 second sheet, first two rows, last two cols: \", x3[1, :2, -2:])\n",
    "print(\"5: X3 second sheet, everything, everything (essentially converting to 2D - very useful): \", x3[1, :, :])\n",
    "print(\"6: X3 second sheet, without : : \", x3[1])"
   ]
  },
  {
   "cell_type": "markdown",
   "metadata": {},
   "source": [
    "Modifying"
   ]
  },
  {
   "cell_type": "code",
   "execution_count": 16,
   "metadata": {},
   "outputs": [
    {
     "name": "stdout",
     "output_type": "stream",
     "text": [
      "1: X2 first row, last col before:  9\n",
      "2: X2 first row, last col after:  99\n"
     ]
    }
   ],
   "source": [
    "print(\"1: X2 first row, last col before: \", x2[0, -1])\n",
    "x2[0, -1] = 99.013  #remember that x2 is a int type, so it will automatically truncate decimals\n",
    "print(\"2: X2 first row, last col after: \", x2[0, -1])"
   ]
  },
  {
   "cell_type": "markdown",
   "metadata": {},
   "source": [
    "### ===Task===\n",
    "\n",
    "1. Create a numpy array of size 3 by 4 with random float values between 1 to 5 but skipping 3\n",
    "\n",
    "2. Continuing, print the shape of this array\n",
    "\n",
    "3. Continuing, access the first row of the array\n",
    "\n",
    "4. Continuing, access the first column of the array\n",
    "\n",
    "5. Continuing, access the second row, and third column element\n",
    "\n",
    "6. Continuing, access the first two columns\n",
    "\n",
    "7. Continuing, access the  first and third columns using step\n",
    "\n",
    "8. Continuing, print the whole matrix in reverse columns but not rows\n",
    "\n",
    "9. Change the third row, fourth column element (i.e., the last element) to 999"
   ]
  },
  {
   "cell_type": "markdown",
   "metadata": {},
   "source": [
    "### Very very important reminder - subarray are not copies!"
   ]
  },
  {
   "cell_type": "code",
   "execution_count": 17,
   "metadata": {},
   "outputs": [
    {
     "name": "stdout",
     "output_type": "stream",
     "text": [
      "1: some_array:  [0 8 7 7 1 1]\n",
      "2: its_not_copy [8 7]\n",
      "Some array got changed!!\n",
      "3: some_array:  [ 0 99  7  7  1  1]\n",
      "4: its_not_copy [99  7]\n",
      "5: another_array:  [3 0 8 6 4 5]\n",
      "6: its_copy [0 8]\n",
      "7: another_array:  [3 0 8 6 4 5]\n",
      "8: its_copy [99  8]\n"
     ]
    }
   ],
   "source": [
    "some_array = np.random.randint(10, size = 6) #one dimensional array\n",
    "print(\"1: some_array: \", some_array)\n",
    "\n",
    "its_not_copy = some_array[1:3]\n",
    "print(\"2: its_not_copy\", its_not_copy)\n",
    "\n",
    "its_not_copy[0] = 99\n",
    "\n",
    "print(\"Some array got changed!!\")\n",
    "print(\"3: some_array: \", some_array)\n",
    "print(\"4: its_not_copy\", its_not_copy)\n",
    "\n",
    "'''\n",
    "This behavior is intended, since data scientists \n",
    "love to chop down dataset to subset when working\n",
    "'''\n",
    "\n",
    "#if we want copy, use copy()\n",
    "another_array = np.random.randint(10, size = 6) #one dimensional array\n",
    "print(\"5: another_array: \", another_array)\n",
    "\n",
    "its_copy = another_array[1:3].copy()\n",
    "print(\"6: its_copy\", its_copy)\n",
    "\n",
    "its_copy[0] = 99\n",
    "\n",
    "print(\"7: another_array: \", another_array)\n",
    "print(\"8: its_copy\", its_copy)\n"
   ]
  },
  {
   "cell_type": "markdown",
   "metadata": {},
   "source": [
    "## Reshaping"
   ]
  },
  {
   "cell_type": "markdown",
   "metadata": {},
   "source": [
    "Simple reshape"
   ]
  },
  {
   "cell_type": "code",
   "execution_count": 18,
   "metadata": {},
   "outputs": [
    {
     "name": "stdout",
     "output_type": "stream",
     "text": [
      "1: [1 2 3 4 5 6 7 8 9]\n",
      "2: Make sure no. of elements match!:  True\n",
      "3: New grid:  [[1 2 3]\n",
      " [4 5 6]\n",
      " [7 8 9]]\n"
     ]
    }
   ],
   "source": [
    "grid = np.arange(1, 10)\n",
    "print(\"1:\", grid)\n",
    "print(\"2: Make sure no. of elements match!: \", grid.size == 3 * 3)\n",
    "print(\"3: New grid: \", grid.reshape((3,3)))  #reshape take a tuple as input"
   ]
  },
  {
   "cell_type": "markdown",
   "metadata": {},
   "source": [
    "1d to 2d"
   ]
  },
  {
   "cell_type": "code",
   "execution_count": 19,
   "metadata": {},
   "outputs": [
    {
     "name": "stdout",
     "output_type": "stream",
     "text": [
      "1: X:  [11 22 33 44 55]\n",
      "2: X shape:  (5,)\n",
      "3: 1D to 2D:  [[11]\n",
      " [22]\n",
      " [33]\n",
      " [44]\n",
      " [55]]\n",
      "4: X reshape:  (5, 1)\n"
     ]
    }
   ],
   "source": [
    "X = np.array([11, 22, 33, 44, 55])\n",
    "print(\"1: X: \", X)\n",
    "print(\"2: X shape: \", X.shape)  #you cannot input this to scikit learn since it expects (samples, features)\n",
    "X = X.reshape((X.shape[0], 1))\n",
    "print(\"3: 1D to 2D: \", X)\n",
    "print(\"4: X reshape: \", X.shape)"
   ]
  },
  {
   "cell_type": "markdown",
   "metadata": {},
   "source": [
    "np.newaxis"
   ]
  },
  {
   "cell_type": "code",
   "execution_count": 20,
   "metadata": {},
   "outputs": [
    {
     "name": "stdout",
     "output_type": "stream",
     "text": [
      "1: X:  (4,)\n",
      "2: Row vec:  (1, 4)\n",
      "3: Col vec:  (4, 1)\n"
     ]
    }
   ],
   "source": [
    "#another way to reshape is to use np.newaxis\n",
    "# 1D array\n",
    "X = np.arange(4)\n",
    "print(\"1: X: \", X.shape)\n",
    "\n",
    "# make it as row vector by inserting an axis along second dimension\n",
    "row_vec = X[np.newaxis, :]\n",
    "print(\"2: Row vec: \", row_vec.shape)\n",
    "\n",
    "# make it as column vector by inserting an axis along second dimension\n",
    "col_vec = X[:, np.newaxis]\n",
    "print(\"3: Col vec: \", col_vec.shape)"
   ]
  },
  {
   "cell_type": "markdown",
   "metadata": {},
   "source": [
    "Common to reshape 2d to 3d for time algorithms, such as LSTM"
   ]
  },
  {
   "cell_type": "code",
   "execution_count": 21,
   "metadata": {},
   "outputs": [
    {
     "name": "stdout",
     "output_type": "stream",
     "text": [
      "1: X:  [[11 22]\n",
      " [33 44]\n",
      " [55 66]]\n",
      "2: X shape:  (3, 2)\n",
      "3: 2D to 3D:  [[[11 22]\n",
      "  [33 44]\n",
      "  [55 66]]]\n",
      "4: X reshape :  (1, 3, 2)\n"
     ]
    }
   ],
   "source": [
    "X = np.array([[11, 22],\n",
    "              [33, 44],\n",
    "              [55, 66]])\n",
    "\n",
    "print(\"1: X: \", X)\n",
    "print(\"2: X shape: \", X.shape)  #you cannot input this to LSTM since it expects (samples, time steps, features)\n",
    "\n",
    "#this X can be framed as 1 sample with 3 time steps and 2 features\n",
    "X = X.reshape(1, X.shape[0], 2)\n",
    "print(\"3: 2D to 3D: \", X)\n",
    "print(\"4: X reshape : \", X.shape)"
   ]
  },
  {
   "cell_type": "markdown",
   "metadata": {},
   "source": [
    "Using -1 in reshape"
   ]
  },
  {
   "cell_type": "code",
   "execution_count": 22,
   "metadata": {},
   "outputs": [
    {
     "name": "stdout",
     "output_type": "stream",
     "text": [
      "1: X:  [[[ 0  1]\n",
      "  [ 2  3]]\n",
      "\n",
      " [[ 4  5]\n",
      "  [ 6  7]]\n",
      "\n",
      " [[ 8  9]\n",
      "  [10 11]]\n",
      "\n",
      " [[12 13]\n",
      "  [14 15]]]\n",
      "2: X shape:  (4, 2, 2)\n",
      "3: 3D to 2D using -1:  [[ 0  1]\n",
      " [ 2  3]\n",
      " [ 4  5]\n",
      " [ 6  7]\n",
      " [ 8  9]\n",
      " [10 11]\n",
      " [12 13]\n",
      " [14 15]]\n",
      "4: X reshape using -1:  (8, 2)\n"
     ]
    }
   ],
   "source": [
    "# -1 in reshape allow numpy to automatically \n",
    "# determine the correct shape; super useful\n",
    "X = np.array([[[ 0, 1],\n",
    "               [ 2, 3]],\n",
    "              [[ 4, 5],\n",
    "               [ 6, 7]],\n",
    "              [[ 8, 9],\n",
    "               [10, 11]],\n",
    "              [[12, 13],\n",
    "               [14, 15]]])\n",
    "\n",
    "print(\"1: X: \", X)\n",
    "print(\"2: X shape: \", X.shape)\n",
    "\n",
    "X = X.reshape(-1, 2)\n",
    "print(\"3: 3D to 2D using -1: \", X)\n",
    "print(\"4: X reshape using -1: \", X.shape)"
   ]
  },
  {
   "cell_type": "markdown",
   "metadata": {},
   "source": [
    "### ===Task===\n",
    "\n",
    "1. Create a numpy array of size 200 by 4 with random float values between 1 to 5\n",
    "\n",
    "2. Continuing, split the array into two numpy arrays, set the first array <code>X_train</code> to contain 70\\% of the 200 rows, and contains the first 3 columns.  The second array <code>y_train</code> contains 70\\% of the 200 rows but only for the last column.  Similarly, populate <code>X_test</code> and <code>y_test</code> using same corresponding columns but 30\\% rest of the data.\n",
    "\n",
    "3. Print the shape of the <code>X_train</code> and <code>y_train</code>.  The first array should have shape (0.7 * 200, 3); the second array is (0.7 * 200, )\n",
    "\n",
    "4. Assign m = <code>X_train.shape[0]</code>, and n = <code>X_train.shape[1]</code>, where $m$ is number of samples, and $n$ is number of features\n",
    "\n",
    "5. Reshape the <code>y_train</code> so that its shape is (0.7 * 200, 1) \n",
    "\n",
    "6. Randomly select one row of <code>X_train</code> and called it <code>X_i</code>.  Reshape it so that it has shape of <code>(1, n)</code>\n",
    "\n",
    "7. Randomly select 50 contiguous rows from <code>X_train</code> and called it <code>mini_batch_X</code>\n",
    "\n",
    "8. Write a for loop that breaks the <code>X_train</code> into 10 equal pieces without overlap, each containing 10\\% of row data but all columns, and simply print their shape\n",
    "\n",
    "9. Create an np.zero array called <code>theta</code> with shape of <code>(n, )</code>\n",
    "\n",
    "10. Perform a dot product between <code>X_train</code> and <code>theta</code> and assign this value to a variable called <code>yhat</code>\n",
    "\n",
    "11. Create another variable called <code>y</code> with the same shape as <code>yhat</code>, and populate it with random values from 0 to 1.\n",
    "\n",
    "12. Calculate the following \n",
    "    $$ \\frac{\\sum\\limits_{i=1}^{m} (y_i - \\hat{y_i})^2}{m} $$\n",
    "    \n",
    "    For example, if yhat = [1, 2, 3] and y = [2, 3, 4], then the calculation is\n",
    "    \n",
    "    $$ \\frac{sum((1-2)^2 + (2-3)^2 + (3-4)^2)}{m} $$"
   ]
  },
  {
   "cell_type": "markdown",
   "metadata": {},
   "source": [
    "## Concatenation, vstack/hstack"
   ]
  },
  {
   "cell_type": "markdown",
   "metadata": {},
   "source": [
    "Concatenation"
   ]
  },
  {
   "cell_type": "code",
   "execution_count": 23,
   "metadata": {},
   "outputs": [
    {
     "name": "stdout",
     "output_type": "stream",
     "text": [
      "1: x:  (2, 3) y:  (1, 3)\n",
      "2: Row concatenation:  [[1 2 3]\n",
      " [3 4 1]\n",
      " [3 2 1]]\n"
     ]
    }
   ],
   "source": [
    "x = np.array([[1, 2, 3], \n",
    "              [3, 4, 1]])\n",
    "y = np.array([[3, 2, 1]])\n",
    "\n",
    "print(\"1: x: \", x.shape, \"y: \", y.shape)\n",
    "\n",
    "#all the input arrays must have same number of shape\n",
    "#except in the dimension corresponding to the axis\n",
    "print(\"2: Row concatenation: \", np.concatenate((x, y)))  #default axis = 0 (i.e., row)"
   ]
  },
  {
   "cell_type": "markdown",
   "metadata": {},
   "source": [
    "Error example"
   ]
  },
  {
   "cell_type": "code",
   "execution_count": 24,
   "metadata": {},
   "outputs": [],
   "source": [
    "#default axis = 1 (i.e., col).  Error because row has different dimension\n",
    "#print(\"Column concatenation: \", np.concatenate((x, y), axis=1))  "
   ]
  },
  {
   "cell_type": "markdown",
   "metadata": {},
   "source": [
    "More example"
   ]
  },
  {
   "cell_type": "code",
   "execution_count": 25,
   "metadata": {},
   "outputs": [
    {
     "name": "stdout",
     "output_type": "stream",
     "text": [
      "1: X:  (3, 2) Y:  (3, 2)\n",
      "2: Row concat:  [[11 22]\n",
      " [33 44]\n",
      " [55 66]\n",
      " [11 22]\n",
      " [33 44]\n",
      " [55 66]]\n",
      "3: Col concat:  [[11 22 11 22]\n",
      " [33 44 33 44]\n",
      " [55 66 55 66]]\n"
     ]
    }
   ],
   "source": [
    "X = np.array([[11, 22],\n",
    "              [33, 44],\n",
    "              [55, 66]])\n",
    "\n",
    "Y = np.array([[11, 22],\n",
    "              [33, 44],\n",
    "              [55, 66]])\n",
    "\n",
    "print(\"1: X: \", X.shape, \"Y: \", Y.shape)\n",
    "\n",
    "print(\"2: Row concat: \", np.concatenate([X, Y]))  #default axis = 0\n",
    "print(\"3: Col concat: \", np.concatenate([X, Y], axis=1))  #default axis = 1"
   ]
  },
  {
   "cell_type": "markdown",
   "metadata": {},
   "source": [
    "Concatenating multiple lists"
   ]
  },
  {
   "cell_type": "code",
   "execution_count": 26,
   "metadata": {},
   "outputs": [
    {
     "name": "stdout",
     "output_type": "stream",
     "text": [
      "Concat multiple list:  [[11 22]\n",
      " [33 44]\n",
      " [55 66]\n",
      " [11 22]\n",
      " [33 44]\n",
      " [55 66]\n",
      " [11 22]\n",
      " [33 44]\n",
      " [55 66]]\n"
     ]
    }
   ],
   "source": [
    "Z = np.array([[11, 22],\n",
    "              [33, 44],\n",
    "              [55, 66]])\n",
    "\n",
    "print(\"Concat multiple list: \", np.concatenate((X, Y, Z)))\n",
    "\n",
    "#Tips: Notice sometimes I use () or [] inside concatenate, \n",
    "#they both work since concatenate expect a tuple or lists of arrays"
   ]
  },
  {
   "cell_type": "markdown",
   "metadata": {},
   "source": [
    "Vstack and hstack"
   ]
  },
  {
   "cell_type": "code",
   "execution_count": 27,
   "metadata": {},
   "outputs": [
    {
     "name": "stdout",
     "output_type": "stream",
     "text": [
      "1: Vstack (row-wise):  [[11 22]\n",
      " [33 44]\n",
      " [55 66]\n",
      " [11 22]\n",
      " [33 44]\n",
      " [55 66]\n",
      " [11 22]\n",
      " [33 44]\n",
      " [55 66]]\n",
      "2: Hstack (col-wise):  [[11 22 11 22 11 22]\n",
      " [33 44 33 44 33 44]\n",
      " [55 66 55 66 55 66]]\n"
     ]
    }
   ],
   "source": [
    "#instead of using axis =0 or 1, we can use hstack or vstack\n",
    "#as name suggests, hstack stack horizontally (axis = 1) and\n",
    "#vstack stack vertically (axis = 0)\n",
    "print(\"1: Vstack (row-wise): \", np.vstack((X, Y, Z)))\n",
    "print(\"2: Hstack (col-wise): \", np.hstack((X, Y, Z)))"
   ]
  },
  {
   "cell_type": "markdown",
   "metadata": {},
   "source": [
    "## Vectorization"
   ]
  },
  {
   "cell_type": "markdown",
   "metadata": {},
   "source": [
    "Vectorization basics"
   ]
  },
  {
   "cell_type": "code",
   "execution_count": 28,
   "metadata": {},
   "outputs": [
    {
     "name": "stdout",
     "output_type": "stream",
     "text": [
      "a + b [2 3 4 9 6]\n"
     ]
    }
   ],
   "source": [
    "a = np.array([1, 2, 3, 4, 5])\n",
    "b = np.array([1, 1, 1, 5, 1])\n",
    "print(\"a + b\", a + b)"
   ]
  },
  {
   "cell_type": "markdown",
   "metadata": {},
   "source": [
    "Vectorization by scalars"
   ]
  },
  {
   "cell_type": "code",
   "execution_count": 29,
   "metadata": {},
   "outputs": [
    {
     "name": "stdout",
     "output_type": "stream",
     "text": [
      "1: 1 - a [ 0 -1 -2 -3 -4]\n",
      "2: a ** 2 [ 1  4  9 16 25]\n",
      "3: -a + 5 / 10 [0.4 0.3 0.2 0.1 0. ]\n"
     ]
    }
   ],
   "source": [
    "print(\"1: 1 - a\", 1 - a)\n",
    "print(\"2: a ** 2\", a ** 2)\n",
    "print(\"3: -a + 5 / 10\", (-a + 5) / 10)  #imagine apply f(x) across all values"
   ]
  },
  {
   "cell_type": "markdown",
   "metadata": {},
   "source": [
    "Vectorization using numpy built in function"
   ]
  },
  {
   "cell_type": "code",
   "execution_count": 30,
   "metadata": {},
   "outputs": [
    {
     "name": "stdout",
     "output_type": "stream",
     "text": [
      "1: np.add(a, b):  [2 3 4 9 6]\n",
      "2: np.mod(a, 3):  [1 2 0 1 2]\n",
      "3: np.min:  1\n",
      "4: np.argmin:  0\n",
      "5: np.dot(a, b):  31\n",
      "6: np.abs(b):  [1 1 1 5 1]\n"
     ]
    }
   ],
   "source": [
    "print(\"1: np.add(a, b): \", np.add(a, b))\n",
    "print(\"2: np.mod(a, 3): \", np.mod(a, 3))\n",
    "#imagine this [i for i in a if a % 3 == 0]\n",
    "print(\"3: np.min: \", np.min(a)) #return value\n",
    "print(\"4: np.argmin: \", np.argmin(a)) #returns index\n",
    "print(\"5: np.dot(a, b): \", np.dot(a, b))\n",
    "print(\"6: np.abs(b): \", np.abs(b))\n",
    "\n",
    "#you can also use other wrappers like\n",
    "#np.add, np.subtract, np.negatve, np.multiply, np.divide\n",
    "#np.floor_divide, np.power, np.mod, np.mean, np.var\n",
    "#np.sin, np.cos, np.tan, np.arcsin, np.arccos, np.arctan\n",
    "#np.exp - base e, np.exp2, np.power\n",
    "#np.log - ln x, np.log2, np.log10"
   ]
  },
  {
   "cell_type": "markdown",
   "metadata": {},
   "source": [
    "## Broadcasting"
   ]
  },
  {
   "cell_type": "markdown",
   "metadata": {},
   "source": [
    "Broadcasting is actually a built-in vectorization technique when shape is different\n",
    "\n",
    "Here are the broadcasting rules:\n",
    "\n",
    "- Rule 1: If the two arrays differ in their number of dimensions, the shape of the one with fewer dimensions is padded with ones on its leading (left) side.\n",
    "- Rule 2: If the shape of the two arrays does not match in any dimension, the array with shape equal to 1 in that dimension is stretched to match the other shape\n",
    "- Rule 3: If in any dimension the sizes disagree and neither is equal to 1, an error is raised.\n",
    "\n",
    "A simple way to think about broadcasting is as follows:\n",
    "\n",
    "<code>a = 5\n",
    "b = np.array([1, 1, 1])  #shape with (3, )\n",
    "a + b = [6, 6, 6]</code>\n",
    "\n",
    "Actually, what broadcasting does is to stretch a to [5, 5, 5] to match the dimension of b.  As you can see, the shape of [5, 5, 5] has shape with (3, ) as well.  BTW, this duplication does not actually take place, but it is a useful mental model to think about broadcasting"
   ]
  },
  {
   "cell_type": "markdown",
   "metadata": {},
   "source": [
    "Example 1"
   ]
  },
  {
   "cell_type": "code",
   "execution_count": 31,
   "metadata": {},
   "outputs": [
    {
     "name": "stdout",
     "output_type": "stream",
     "text": [
      "1: A:  [[1. 1. 1.]\n",
      " [1. 1. 1.]]  shape:  (2, 3)\n",
      "2: B:  [0 1 2]  shape:  (3,)\n",
      "3: A + B:  [[1. 2. 3.]\n",
      " [1. 2. 3.]]\n",
      "4: A + B shape:  (2, 3)\n"
     ]
    }
   ],
   "source": [
    "a = np.ones((2, 3))\n",
    "print(\"1: A: \", a, \" shape: \", a.shape)\n",
    "b = np.arange(3)\n",
    "print(\"2: B: \", b, \" shape: \", b.shape)\n",
    "\n",
    "'''\n",
    "what is a + b?\n",
    "First, rule 1 applies since a and b has different dimension\n",
    "the smaller one is padded with 1 from left\n",
    "resulting in B having shape of (1, 3) and A still has shape of (2, 3)\n",
    "\n",
    "Now, since dimension one does not match, 1 and 2, thus the 1 will be \n",
    "stretched to become 2\n",
    "resulting in B having shape of (2, 3) and A still has shape of (2, 3)\n",
    "\n",
    "And thus the result is of shape (2, 3)\n",
    "'''\n",
    "\n",
    "print(\"3: A + B: \", a + b)\n",
    "print(\"4: A + B shape: \", (a+b).shape)"
   ]
  },
  {
   "cell_type": "markdown",
   "metadata": {},
   "source": [
    "Example 2"
   ]
  },
  {
   "cell_type": "code",
   "execution_count": 32,
   "metadata": {},
   "outputs": [
    {
     "name": "stdout",
     "output_type": "stream",
     "text": [
      "1: A:  [[0]\n",
      " [1]\n",
      " [2]]  shape:  (3, 1)\n",
      "2: B:  [0 1 2]  shape:  (3,)\n",
      "3: A + B:  [[0 1 2]\n",
      " [1 2 3]\n",
      " [2 3 4]]\n",
      "4: A + B shape:  (3, 3)\n"
     ]
    }
   ],
   "source": [
    "a = np.arange(3).reshape((3,1))\n",
    "b = np.arange(3)\n",
    "print(\"1: A: \", a, \" shape: \", a.shape)\n",
    "print(\"2: B: \", b, \" shape: \", b.shape)\n",
    "\n",
    "'''\n",
    "B has fewer dimension, Rule 1 applies thus shape from (3, ) becomes (1, 3)\n",
    "Now A has shape of (3, 1) and B has shape of (1, 3)\n",
    "Rule 2 applies, stretching any one of match the other, thus\n",
    "A has shape of (3, 3) and B has shape of (3, 3)\n",
    "'''\n",
    "\n",
    "print(\"3: A + B: \", a + b)\n",
    "print(\"4: A + B shape: \", (a+b).shape)"
   ]
  },
  {
   "cell_type": "markdown",
   "metadata": {},
   "source": [
    "Example 3"
   ]
  },
  {
   "cell_type": "code",
   "execution_count": 33,
   "metadata": {},
   "outputs": [
    {
     "name": "stdout",
     "output_type": "stream",
     "text": [
      "1: A:  [[1. 1.]\n",
      " [1. 1.]\n",
      " [1. 1.]]  shape:  (3, 2)\n",
      "2: B:  [0 1 2]  shape:  (3,)\n",
      "3: B new:  [[0]\n",
      " [1]\n",
      " [2]]\n",
      "4: B newshape:  (3, 1)\n",
      "5: A + B:  [[1. 1.]\n",
      " [2. 2.]\n",
      " [3. 3.]]\n",
      "6: A + B shape:  (3, 2)\n"
     ]
    }
   ],
   "source": [
    "a = np.ones((3, 2))\n",
    "b = np.arange(3)\n",
    "print(\"1: A: \", a, \" shape: \", a.shape)\n",
    "print(\"2: B: \", b, \" shape: \", b.shape)\n",
    "\n",
    "'''\n",
    "By Rule 1, B has fewer dimension, thus becomes (1, 3) while A still has (3, 2)\n",
    "By Rule 2, then B becomes (3, 3) while A is still (3, 2)\n",
    "Since no more rule can be applied, this results in an error\n",
    "'''\n",
    "#error\n",
    "#print(\"A + B: \", a + b)\n",
    "#print(\"A + B shape: \", (a+b).shape)\n",
    "\n",
    "#this is where reshaping comes to the rescue\n",
    "#perhaps we can reshape B to (3, 1)\n",
    "b = b.reshape(b.shape[0], 1)\n",
    "print(\"3: B new: \", b)\n",
    "print(\"4: B newshape: \", b.shape)\n",
    "print(\"5: A + B: \", a + b)\n",
    "print(\"6: A + B shape: \", (a+b).shape)"
   ]
  },
  {
   "cell_type": "markdown",
   "metadata": {},
   "source": [
    "Example 4"
   ]
  },
  {
   "cell_type": "code",
   "execution_count": 34,
   "metadata": {},
   "outputs": [
    {
     "name": "stdout",
     "output_type": "stream",
     "text": [
      "1: A:  [1 2 3 4 5]  shape:  (5,)\n",
      "2: B:  [5 4 3]  shape:  (3,)\n",
      "3: A:  [[1]\n",
      " [2]\n",
      " [3]\n",
      " [4]\n",
      " [5]]  shape:  (5, 1)\n",
      "4: B:  [5 4 3]  shape:  (3,)\n",
      "5: A + B:  [[ 6  5  4]\n",
      " [ 7  6  5]\n",
      " [ 8  7  6]\n",
      " [ 9  8  7]\n",
      " [10  9  8]]\n",
      "6: A + B shape:  (5, 3)\n"
     ]
    }
   ],
   "source": [
    "a = np.array([1, 2, 3, 4, 5])\n",
    "b = np.array([5, 4, 3])\n",
    "print(\"1: A: \", a, \" shape: \", a.shape)\n",
    "print(\"2: B: \", b, \" shape: \", b.shape)\n",
    "\n",
    "'''\n",
    "Rule 1 cannot be applied since they have same dimension\n",
    "Rule 2 cannot be applied as well since there are no ones\n",
    "'''\n",
    "#errors\n",
    "# a + b\n",
    "#in this case, we can add 1 to a or b\n",
    "a = a[:, np.newaxis] \n",
    "print(\"3: A: \", a, \" shape: \", a.shape)\n",
    "print(\"4: B: \", b, \" shape: \", b.shape)\n",
    "print(\"5: A + B: \", a + b)\n",
    "\n",
    "#applying newaxis to a becomes (5, 3), if b becomes (3, 5)\n",
    "print(\"6: A + B shape: \", (a+b).shape)"
   ]
  },
  {
   "cell_type": "markdown",
   "metadata": {},
   "source": [
    "### ===Task===\n",
    "\n",
    "\n",
    "1. Given a function $y = 0.5x + 1$\n",
    "   - generate 1000 points from 1 to 10 and called it X\n",
    "   - calculate corresponding y\n",
    "\n",
    "2. From the above <code>X_train</code> from previous task, using concatenation, add a column of 1s along axis=1\n",
    "\n",
    "3. Create a <code>theta</code> of shape (n, 4)\n",
    "\n",
    "4. Perform a dot product between X_train and theta, and assign this value to a variable called <code>hot_encoded_yhat</code>\n",
    "\n",
    "5. Continuing, using broadcasting and vectorization, for each value (here I use example as value1) in <code>hot_encoded_yhat</code>, perform the following calculations.\n",
    "\n",
    "$$ \\frac{\\exp(value1)}{\\exp(value1)+\\exp(value2)+\\exp(value3)+\\exp(value4)} $$\n",
    "\n",
    "For example, if my first row is [0.3, 0.5, 1.2, 3.1], then the first value 0.3 will change to\n",
    "\n",
    "exp(0.3) / (exp(0.3) + exp(0.5) + exp(1.2) + exp(3.1))\n",
    "\n",
    "The second value 0.5 will become\n",
    "\n",
    "exp(0.5) / (exp(0.3) + exp(0.5) + exp(1.2) + exp(3.1))\n",
    "\n",
    "6. Create a variable called <code>yhat</code> which is equal to the <code>np.argmax</code> of <code>hot_encoded_yhat</code> along axis=1.  That is, <code>yhat</code> has the shape of <code>(X.shape[0], )</code>.  For example, if the first row of <code>hot_encoded_yhat</code> is [0.1, 0.2, 0.3, 0.4], since the fourth value is the biggest, the value will be its index which is 3.\n",
    "\n",
    "7. Create a variable called <code>y</code>, containing shape of <code>(X.shape[0], )</code> but with random int values from [0, 1, 2, 3]\n",
    "\n",
    "8. Convert <code>y</code> into <code>hot_encoded_y</code> matrix of shape <code>(X_train.shape[0], 4)</code>, where the column will be one according to its value, and other columns will be zero.  For example, if the first row is 1, then it will become 0 1 0 0.  If the second row is 2, then it will become 0 0 1 0\n",
    "\n",
    "9. Assign a variable <code>n_classses</code> equal to the number of unique values in <code>y</code>"
   ]
  },
  {
   "cell_type": "markdown",
   "metadata": {},
   "source": [
    "## Masking"
   ]
  },
  {
   "cell_type": "markdown",
   "metadata": {},
   "source": [
    "Instead of writing if/while, we can use Boolean masks to elegantly extract desired values from numpy arrays.  You will love it!!"
   ]
  },
  {
   "cell_type": "code",
   "execution_count": 35,
   "metadata": {},
   "outputs": [
    {
     "name": "stdout",
     "output_type": "stream",
     "text": [
      "[[5 0 3 3]\n",
      " [7 9 3 5]\n",
      " [2 4 7 6]]\n"
     ]
    }
   ],
   "source": [
    "rng = np.random.RandomState(0)  #for reproducibility\n",
    "x = rng.randint(10, size=(3, 4))\n",
    "print(x)"
   ]
  },
  {
   "cell_type": "markdown",
   "metadata": {},
   "source": [
    "Examples"
   ]
  },
  {
   "cell_type": "code",
   "execution_count": 36,
   "metadata": {},
   "outputs": [
    {
     "name": "stdout",
     "output_type": "stream",
     "text": [
      "1: x<4:  [[False  True  True  True]\n",
      " [False False  True False]\n",
      " [ True False False False]]\n",
      "2: All values less than 4:  [0 3 3 3 2]\n",
      "3: All values divisible by 3:  [0 3 3 9 3 6]\n",
      "4: All values that are nan:  []\n"
     ]
    }
   ],
   "source": [
    "print(\"1: x<4: \", x<4)\n",
    "print(\"2: All values less than 4: \", x[x<4])\n",
    "print(\"3: All values divisible by 3: \", x[x%3==0])\n",
    "print(\"4: All values that are nan: \", x[np.isnan(x)])"
   ]
  },
  {
   "cell_type": "markdown",
   "metadata": {},
   "source": [
    "Argwhere"
   ]
  },
  {
   "cell_type": "code",
   "execution_count": 37,
   "metadata": {},
   "outputs": [
    {
     "name": "stdout",
     "output_type": "stream",
     "text": [
      "Argwhere:  [[0 1]\n",
      " [0 2]\n",
      " [0 3]\n",
      " [1 2]\n",
      " [2 0]]\n"
     ]
    }
   ],
   "source": [
    "print(\"Argwhere: \", np.argwhere(x<4))"
   ]
  },
  {
   "cell_type": "markdown",
   "metadata": {},
   "source": [
    "Np.any"
   ]
  },
  {
   "cell_type": "code",
   "execution_count": 38,
   "metadata": {},
   "outputs": [
    {
     "name": "stdout",
     "output_type": "stream",
     "text": [
      "1: Any value ==0?  True\n",
      "2: Any value ==0 along axis 1? [ True False False]\n",
      "3: Any value ==0 along axis 0? [False  True False False]\n"
     ]
    }
   ],
   "source": [
    "print(\"1: Any value ==0? \", np.any(x==0))\n",
    "print(\"2: Any value ==0 along axis 1?\", np.any(x==0, axis=1))\n",
    "print(\"3: Any value ==0 along axis 0?\", np.any(x==0, axis=0))"
   ]
  },
  {
   "cell_type": "markdown",
   "metadata": {},
   "source": [
    "Np.all"
   ]
  },
  {
   "cell_type": "code",
   "execution_count": 39,
   "metadata": {},
   "outputs": [
    {
     "name": "stdout",
     "output_type": "stream",
     "text": [
      "False\n"
     ]
    }
   ],
   "source": [
    "#count IF ALL value is > 0\n",
    "print(np.all(x>0))"
   ]
  },
  {
   "cell_type": "markdown",
   "metadata": {},
   "source": [
    "Multiple conditions"
   ]
  },
  {
   "cell_type": "code",
   "execution_count": 40,
   "metadata": {},
   "outputs": [
    {
     "name": "stdout",
     "output_type": "stream",
     "text": [
      "False\n"
     ]
    }
   ],
   "source": [
    "#definitely multiple conditions can be done\n",
    "print(np.any((x==0) & (x==2)))"
   ]
  },
  {
   "cell_type": "markdown",
   "metadata": {},
   "source": [
    "## Fancy indexing"
   ]
  },
  {
   "cell_type": "markdown",
   "metadata": {},
   "source": [
    "Instead of pass individual indices, we can pass array of indices all at once, and it will return a list of numbers"
   ]
  },
  {
   "cell_type": "code",
   "execution_count": 41,
   "metadata": {},
   "outputs": [
    {
     "name": "stdout",
     "output_type": "stream",
     "text": [
      "[70  2 76 91 21 75  7 77 72 75]\n"
     ]
    }
   ],
   "source": [
    "import random\n",
    "a = np.random.randint(100, size = 10)\n",
    "print(a)"
   ]
  },
  {
   "cell_type": "markdown",
   "metadata": {},
   "source": [
    "Basic example"
   ]
  },
  {
   "cell_type": "code",
   "execution_count": 42,
   "metadata": {},
   "outputs": [
    {
     "name": "stdout",
     "output_type": "stream",
     "text": [
      "1: Normal indices:  70 91 75\n",
      "2: Fancy indices:  [70 91 75]\n"
     ]
    }
   ],
   "source": [
    "print(\"1: Normal indices: \", a[0], a[3], a[5])\n",
    "print(\"2: Fancy indices: \", a[[0, 3, 5]])  #remember that the argument is a list\n",
    "\n",
    "#error!\n",
    "#print(\"Common mistake: \", a[0, 3, 5])"
   ]
  },
  {
   "cell_type": "markdown",
   "metadata": {},
   "source": [
    "Shape of fancy indexing"
   ]
  },
  {
   "cell_type": "code",
   "execution_count": 43,
   "metadata": {},
   "outputs": [
    {
     "name": "stdout",
     "output_type": "stream",
     "text": [
      "Shape follow ix shape:  [[91 77]\n",
      " [21 75]]\n"
     ]
    }
   ],
   "source": [
    "'''\n",
    "When using fancy indexing, the shape of the \n",
    "result reflects the shape of the index arrays \n",
    "rather than the shape of the array being indexed:\n",
    "'''\n",
    "ix = np.array([[3, 7],\n",
    "               [4, 5]])\n",
    "print(\"Shape follow ix shape: \", a[ix])"
   ]
  },
  {
   "cell_type": "markdown",
   "metadata": {},
   "source": [
    "Multiple dimension fancy indexing"
   ]
  },
  {
   "cell_type": "code",
   "execution_count": 44,
   "metadata": {},
   "outputs": [
    {
     "name": "stdout",
     "output_type": "stream",
     "text": [
      "1: X 2D:  [[ 0  1  2  3]\n",
      " [ 4  5  6  7]\n",
      " [ 8  9 10 11]]\n",
      "2: X[row_ix, col_ix]:  [ 2  5 11]\n",
      "3: X[2,  [2, 0, 1]]:  [10  8  9]\n",
      "4: X[1:, [2, 0, 1]]:  [[ 6  4  5]\n",
      " [10  8  9]]\n"
     ]
    }
   ],
   "source": [
    "X = np.arange(12).reshape((3,4))\n",
    "print(\"1: X 2D: \", X)\n",
    "row_ix = np.array([0, 1, 2])\n",
    "col_ix = np.array([2, 1, 3])\n",
    "print(\"2: X[row_ix, col_ix]: \", X[row_ix, col_ix]) #[0, 2], [1, 1], [2, 3]\n",
    "print(\"3: X[2,  [2, 0, 1]]: \", X[2, [2, 0, 1]])\n",
    "print(\"4: X[1:, [2, 0, 1]]: \", X[1:, [2, 0, 1]])"
   ]
  },
  {
   "cell_type": "markdown",
   "metadata": {},
   "source": [
    "Combined indexing with indexing/slicing"
   ]
  },
  {
   "cell_type": "code",
   "execution_count": 45,
   "metadata": {},
   "outputs": [
    {
     "name": "stdout",
     "output_type": "stream",
     "text": [
      "1: Slicing + fancy + masking:  [ 6  4 10  8]\n",
      "2: More readable way:  [ 6  4 10  8]\n"
     ]
    }
   ],
   "source": [
    "print(\"1: Slicing + fancy + masking: \", X[1:, [2, 0, 1]][X[1:, [2, 0, 1]]%2==0])\n",
    "\n",
    "#if you do not like above, here probably more readable\n",
    "Y = X[1:, [2, 0, 1]]\n",
    "print(\"2: More readable way: \", Y[Y%2==0])"
   ]
  },
  {
   "cell_type": "markdown",
   "metadata": {},
   "source": [
    "3d"
   ]
  },
  {
   "cell_type": "code",
   "execution_count": 46,
   "metadata": {},
   "outputs": [
    {
     "name": "stdout",
     "output_type": "stream",
     "text": [
      "1: X 3D:  [[[ 0  1  2]\n",
      "  [ 3  4  5]\n",
      "  [ 6  7  8]\n",
      "  [ 9 10 11]]\n",
      "\n",
      " [[12 13 14]\n",
      "  [15 16 17]\n",
      "  [18 19 20]\n",
      "  [21 22 23]]\n",
      "\n",
      " [[24 25 26]\n",
      "  [27 28 29]\n",
      "  [30 31 32]\n",
      "  [33 34 35]]]\n",
      "2: X 3D  X[1, [1, 0, 1], [2, 1, 1]]:  [17 13 16]\n",
      "3: X 3D  X[1:, [1, 0, 1], [2, 1, 1]]:  [[17 13 16]\n",
      " [29 25 28]]\n",
      "4: X 3D  X[1:, [1, 0, 1]]:  [[[15 16 17]\n",
      "  [12 13 14]\n",
      "  [15 16 17]]\n",
      "\n",
      " [[27 28 29]\n",
      "  [24 25 26]\n",
      "  [27 28 29]]]\n",
      "5: X 3D  X[[1,0,1], [1, 0, 1],[1,0,1]]:  [16  0 16]\n",
      "6: X 3D  X[[1,0,1], [1, 0, 1],[1,0,1]]:  [16  0 16]\n"
     ]
    }
   ],
   "source": [
    "X = np.arange(36).reshape((3, 4, 3))\n",
    "print(\"1: X 3D: \", X)\n",
    "print(\"2: X 3D  X[1, [1, 0, 1], [2, 1, 1]]: \", X[1, [1, 0, 1], [2, 1, 1]])\n",
    "print(\"3: X 3D  X[1:, [1, 0, 1], [2, 1, 1]]: \", X[1:, [1, 0, 1], [2, 1, 1]])\n",
    "print(\"4: X 3D  X[1:, [1, 0, 1]]: \", X[1:, [1, 0, 1]])\n",
    "print(\"5: X 3D  X[[1,0,1], [1, 0, 1],[1,0,1]]: \", X[[1,0,1], [1, 0, 1],[1,0,1]])\n",
    "print(\"6: X 3D  X[[1,0,1], [1, 0, 1],[1,0,1]]: \", X[[1,0,1], [1, 0, 1],[1,0,1]])"
   ]
  },
  {
   "cell_type": "markdown",
   "metadata": {},
   "source": [
    "Modifying using fancy indexing"
   ]
  },
  {
   "cell_type": "code",
   "execution_count": 47,
   "metadata": {},
   "outputs": [
    {
     "name": "stdout",
     "output_type": "stream",
     "text": [
      "1: All ix values got change:  [ 0 99 99  3 99  5  6  7 99  9]\n"
     ]
    }
   ],
   "source": [
    "x = np.arange(10)\n",
    "ix = np.array([2, 1, 8, 4])\n",
    "x[ix] = 99\n",
    "print(\"1: All ix values got change: \", x)"
   ]
  },
  {
   "cell_type": "markdown",
   "metadata": {},
   "source": [
    "### ===Task===\n",
    "\n",
    "1. From the above <code>yhat</code>, take only the values that are greater than 1 using masking.\n",
    "\n",
    "2. Take the above variables <code>yhat</code> and <code>y</code>, sum up the counts when their corresponding value are the same.  Then divide this sum by $m$.  Called this variable <code>accuracy</code>  Hint: (use masking!)\n",
    "\n",
    "3. Given <code>X_train</code> from above, randomly select three rows of data using fancy indexing.\n",
    "\n",
    "4. Grab the data from <code>data = np.genfromtxt('resources/perceptron.csv', delimiter=',', skip_header=1)</code>\n",
    "    - set X to be all columns except last\n",
    "    - set y to be the last column\n",
    "    - print the shape of X where its corresponding y is 0\n",
    "    - print the shape of X where its corresponding y is 1\n",
    "    \n",
    "5. Grab the data from <code>iris = genfromtxt('resources/iris.csv', delimiter=',', encoding=\"utf-8\", dtype=None)</code>\n",
    "    - set iris_without_headers to all rows except the first row\n",
    "    - set sepal_length to second column of iris_without_headers\n",
    "    - set petal_length to fourth column of iris_without_headers\n",
    "    - print the shape of iris_without_headers where sepal_length is less than 5, and petal_length is greater than 1.5"
   ]
  }
 ],
 "metadata": {
  "kernelspec": {
   "display_name": "Python 3",
   "language": "python",
   "name": "python3"
  },
  "language_info": {
   "codemirror_mode": {
    "name": "ipython",
    "version": 3
   },
   "file_extension": ".py",
   "mimetype": "text/x-python",
   "name": "python",
   "nbconvert_exporter": "python",
   "pygments_lexer": "ipython3",
   "version": "3.8.6"
  }
 },
 "nbformat": 4,
 "nbformat_minor": 1
}

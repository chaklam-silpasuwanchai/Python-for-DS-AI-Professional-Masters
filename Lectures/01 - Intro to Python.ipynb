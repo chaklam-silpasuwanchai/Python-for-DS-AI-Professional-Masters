{
 "cells": [
  {
   "cell_type": "markdown",
   "metadata": {},
   "source": [
    "# Programming for Data Science and Artificial Intelligence\n",
    "\n",
    "## 1 Introduction to Python\n",
    "\n",
    "### Readings: \n",
    "- https://docs.python.org/3/tutorial/"
   ]
  },
  {
   "cell_type": "markdown",
   "metadata": {},
   "source": [
    "### Basics"
   ]
  },
  {
   "cell_type": "markdown",
   "metadata": {},
   "source": [
    "Assigning variables.  By convention, variable names start with a lower-case letter."
   ]
  },
  {
   "cell_type": "code",
   "execution_count": 1,
   "metadata": {},
   "outputs": [],
   "source": [
    "#variables are dynamic typed\n",
    "x = 3 #integer\n",
    "x = 3.0 #float\n",
    "x = True #boolean\n",
    "x = 'hello' #string\n",
    "\n",
    "a, b = 1, 2  #multiple assignments\n",
    "PI = 3.14  #use all-caps for constants\n",
    "#and = 1  #python keyword such as \"and\" cannot be used as variable name"
   ]
  },
  {
   "cell_type": "markdown",
   "metadata": {},
   "source": [
    "Various ways to print"
   ]
  },
  {
   "cell_type": "code",
   "execution_count": 2,
   "metadata": {},
   "outputs": [
    {
     "name": "stdout",
     "output_type": "stream",
     "text": [
      "1: X with newline: \n",
      " hello\n",
      "2: X with .format: hello\n",
      "3: X using f-string with hello\n",
      "4: User/Desktop/Home\n",
      "5: Hello6: World\n",
      "7: \\n is used for newline\n",
      "8: \"Hi\n",
      "9: C style printing = 1.000000\n",
      "10: Casting with c style:  value1= 3.14. value2 = 1\n"
     ]
    }
   ],
   "source": [
    "print(\"1: X with newline: \\n\", x)  #comma for variable, \\n for newline\n",
    "print(\"2: X with .format: {}\".format(x))  #.format for inserting variable at particular position\n",
    "print(f\"3: X using f-string with {x}\")  #good for not forgetting to write comma, .format\n",
    "print(\"4: User\", \"Desktop\", \"Home\", sep=\"/\") #with separator\n",
    "print(\"5: Hello\", end='')  #disable newline\n",
    "print(\"6: World\")\n",
    "print(r\"7: \\n is used for newline\")  #use r-string for raw; useful for regular expressions\n",
    "print(\"8: \\\"Hi\")  #use \\ to escape \"\n",
    "print(\"9: C style printing = %f\" % 1.0)  #C-style; %s for string, %f for float, %d for int\n",
    "print(\"10: Casting with c style:  value1= %.2f. value2 = %d\" % (3.1415, 1.5))"
   ]
  },
  {
   "cell_type": "markdown",
   "metadata": {},
   "source": [
    "Booleans"
   ]
  },
  {
   "cell_type": "code",
   "execution_count": 3,
   "metadata": {},
   "outputs": [
    {
     "name": "stdout",
     "output_type": "stream",
     "text": [
      "1: Is a boolean:  True\n",
      "2: Is a2 int:  True\n",
      "<class 'bool'>\n",
      "<class 'int'>\n",
      "4: True and False:  False\n",
      "5: True or False:  True\n",
      "6: Not False:  True\n",
      "7: Not 0:  True\n"
     ]
    }
   ],
   "source": [
    "#boolean, can use either Boolean or int\n",
    "a = True\n",
    "a2 = 10  #anything digit not 0 is count as True\n",
    "b = False\n",
    "b2 = 0\n",
    "print(\"1: Is a boolean: \", type(a) is bool)\n",
    "print(\"2: Is a2 int: \", isinstance(a2, int))\n",
    "print(type(b))\n",
    "print(type(b2))\n",
    "    \n",
    "print(\"4: True and False: \", True and False)\n",
    "print(\"5: True or False: \", True or False)\n",
    "print(\"6: Not False: \", not False)\n",
    "print(\"7: Not 0: \", not 0)"
   ]
  },
  {
   "cell_type": "markdown",
   "metadata": {},
   "source": [
    "Arithmetic operations"
   ]
  },
  {
   "cell_type": "code",
   "execution_count": 4,
   "metadata": {},
   "outputs": [
    {
     "name": "stdout",
     "output_type": "stream",
     "text": [
      "1: 3+3 --> 6\n",
      "2: 3/3 --> 1.0\n",
      "3: 4 // 3 --> 1\n",
      "4: 4 mod 3 --> 1\n",
      "5: 4 ^ 2 --> 16\n",
      "6: Without math.  1.0\n"
     ]
    }
   ],
   "source": [
    "print(\"1: 3+3 -->\", 3 + 3)\n",
    "print(\"2: 3/3 -->\", 3 / 3)\n",
    "print(\"3: 4 // 3 -->\", 4 // 3)  #integer division\n",
    "print(\"4: 4 mod 3 -->\", 4 % 3)  #modulo\n",
    "print(\"5: 4 ^ 2 -->\", 4 ** 2) #power\n",
    "\n",
    "import math\n",
    "print(\"6: Without math. \", math.cos(2* math.pi))"
   ]
  },
  {
   "cell_type": "markdown",
   "metadata": {},
   "source": [
    "Operation between types"
   ]
  },
  {
   "cell_type": "code",
   "execution_count": 5,
   "metadata": {},
   "outputs": [
    {
     "name": "stdout",
     "output_type": "stream",
     "text": [
      "1: float + int  <class 'float'>\n",
      "2: int + int <class 'int'>\n"
     ]
    }
   ],
   "source": [
    "#float + int = float\n",
    "#int + int = int\n",
    "#int/float + string = error\n",
    "print(\"1: float + int \", type(float(3) + int(3)))\n",
    "print(\"2: int + int\", type(int(3) + int(3)))\n",
    "#print(\"string + int\", type(str(3) + int(3))) #error"
   ]
  },
  {
   "cell_type": "markdown",
   "metadata": {},
   "source": [
    "### ===Task===\n",
    "\n",
    "1. Declare two strings with value \"3\" and \"4\". Add them by first converting them to int, and then perform addition\n",
    "\n",
    "2. Declare a variable x = 10, and then print a f-string saying \"my variable x = 10\" where 10 is from the x value, not hard-coded\n",
    "\n",
    "3. Perform a calculation of 10 mod 4 / 2 and convert to integer\n",
    "\n",
    "4. Get input from user using input(), and then print the type of the input\n",
    "\n",
    "5. Declare three strings: \"Chaky\", \"John\", \"Tom\", and concatenate them into \"Chaky, John, Tom\""
   ]
  },
  {
   "cell_type": "markdown",
   "metadata": {},
   "source": [
    "### Comparison"
   ]
  },
  {
   "cell_type": "markdown",
   "metadata": {},
   "source": [
    "if statement"
   ]
  },
  {
   "cell_type": "code",
   "execution_count": 6,
   "metadata": {},
   "outputs": [
    {
     "name": "stdout",
     "output_type": "stream",
     "text": [
      "3: statement1 and statement2 are False\n",
      "4: Still inside the else block!!\n",
      "5: Now outside the if block!\n"
     ]
    }
   ],
   "source": [
    "statement1 = False\n",
    "statement2 = False\n",
    "statement3 = True\n",
    "\n",
    "#use indentation, this is one annoying aspect of python!\n",
    "if statement1:\n",
    "    if statement3:\n",
    "        print(\"1: statement1 is True\")\n",
    "elif statement2:\n",
    "    print(\"2: statement2 is True\")\n",
    "else:\n",
    "    print(\"3: statement1 and statement2 are False\")\n",
    "    print(\"4: Still inside the else block!!\")\n",
    "    \n",
    "print(\"5: Now outside the if block!\")"
   ]
  },
  {
   "cell_type": "markdown",
   "metadata": {},
   "source": [
    "while statement"
   ]
  },
  {
   "cell_type": "code",
   "execution_count": 7,
   "metadata": {},
   "outputs": [
    {
     "name": "stdout",
     "output_type": "stream",
     "text": [
      "Inside while: 0\n",
      "Inside while: 1\n",
      "Inside while: 2\n",
      "Inside while: 3\n",
      "Inside while: 4\n",
      "2: done\n"
     ]
    }
   ],
   "source": [
    "i = 0\n",
    "while i < 5:\n",
    "    print(\"Inside while:\", i)\n",
    "    i = i + 1  #try i+=1\n",
    "print(\"2: done\")"
   ]
  },
  {
   "cell_type": "markdown",
   "metadata": {},
   "source": [
    "comparison operators"
   ]
  },
  {
   "cell_type": "code",
   "execution_count": 8,
   "metadata": {},
   "outputs": [
    {
     "data": {
      "text/plain": [
       "(True, False, False, False, True, True, True, False)"
      ]
     },
     "execution_count": 8,
     "metadata": {},
     "output_type": "execute_result"
    }
   ],
   "source": [
    "2 > 1, 2 < 1, 2 > 2, 2 < 2, 2 >= 2, 2 <= 2, [1,2] == [1,2], not True"
   ]
  },
  {
   "cell_type": "markdown",
   "metadata": {},
   "source": [
    "### ===Task===\n",
    "\n",
    "1. Get input from user using input().  If the number is less than 5, print \"less than\".  Otherwise, print \"higher than\".\n",
    "\n",
    "2. Write a simple number guessing game using pseudocode.  The program generates a random integer.  It then accepts input from users for a integer or else it outputs ‘Please input an integer’.  After the user input, the system outputs one of the three possible states whether the number is higher, lower or equal to the target integer.  If it is equal, the program asked whether users want to play another round, or else just keep asking users for input.  Feel free to make any assumption for anything not stated."
   ]
  },
  {
   "cell_type": "markdown",
   "metadata": {},
   "source": [
    "### List"
   ]
  },
  {
   "cell_type": "markdown",
   "metadata": {},
   "source": [
    "String as list"
   ]
  },
  {
   "cell_type": "code",
   "execution_count": 9,
   "metadata": {},
   "outputs": [
    {
     "name": "stdout",
     "output_type": "stream",
     "text": [
      "1: Length:  13\n",
      "2: string[0]:  S\n",
      "3: string[0:2]:  St\n",
      "4: string[:3]:  Str\n",
      "5: string[3:]:  ing is fun\n",
      "6: string[:]:  String is fun\n",
      "7: string[-2:]:  un\n",
      "8: string[-0:]:  String is fun\n",
      "9: string[::2]:  Srn sfn\n",
      "10: string[1::2]:  Srn\n",
      "11: Replace ing with ange:  Strange is fun\n"
     ]
    }
   ],
   "source": [
    "string = \"String is fun\"  #string\n",
    "print(\"1: Length: \", len(string))\n",
    "print(\"2: string[0]: \", string[0])\n",
    "print(\"3: string[0:2]: \", string[0:2])  #it will exclude the stop\n",
    "print(\"4: string[:3]: \", string[:3]) #start beginning with stop 3 thus 0,1,2\n",
    "print(\"5: string[3:]: \", string[3:])  #start with 3 and end wherever thus, 3, 4, 5...\n",
    "print(\"6: string[:]: \", string[:]) #everything\n",
    "print(\"7: string[-2:]: \", string[-2:]) #from second last until the end, thus last+1, and last\n",
    "print(\"8: string[-0:]: \", string[-0:]) #basically whole thing\n",
    "print(\"9: string[::2]: \", string[::2]) #skip every 2\n",
    "print(\"10: string[1::2]: \", string[0:5:2])  #from first, skip every 2\n",
    "print(\"11: Replace ing with ange: \", string.replace(\"ing\", \"ange\"))"
   ]
  },
  {
   "cell_type": "markdown",
   "metadata": {},
   "source": [
    "Making list"
   ]
  },
  {
   "cell_type": "code",
   "execution_count": 10,
   "metadata": {},
   "outputs": [
    {
     "name": "stdout",
     "output_type": "stream",
     "text": [
      "1: Range [0, 1, 2, 3, 4, 5, 6, 7, 8, 9]\n",
      "2: With step 2 [1, 3, 5, 7, 9]\n",
      "3: With start -10:  [-5, -4, -3, -2, -1, 0, 1, 2, 3, 4]\n",
      "4: 5 zeros:  [0, 0, 0, 0, 0]\n"
     ]
    }
   ],
   "source": [
    "list_num = [1, 2, 3, 4] #list of nums\n",
    "list_string = [\"Chaky\", \"John\", \"Peter\"] #list of strings\n",
    "list_combine = [\"Chaky\", 1, 2, True]  #commonly not used, because difficult to handle\n",
    "\n",
    "#use range()\n",
    "print(\"1: Range\", list(range(10)))  #0 to 9  range(start, stop, step)\n",
    "print(\"2: With step 2\", list(range(1, 10, 2)))\n",
    "print(\"3: With start -10: \", list(range(-5, 5)))\n",
    "\n",
    "#use multiplication\n",
    "print(\"4: 5 zeros: \", [0] * 5)"
   ]
  },
  {
   "cell_type": "markdown",
   "metadata": {},
   "source": [
    "Changing elements in the list"
   ]
  },
  {
   "cell_type": "code",
   "execution_count": 11,
   "metadata": {},
   "outputs": [
    {
     "name": "stdout",
     "output_type": "stream",
     "text": [
      "1: Changing value at index 0 to 0:  [0, 2, 3]\n",
      "2: Changing using slicing method:  [5, 6, 3]\n"
     ]
    }
   ],
   "source": [
    "a = [1, 2, 3]\n",
    "a[0] = 0\n",
    "print(\"1: Changing value at index 0 to 0: \", a)\n",
    "a[0:2] = 5, 6\n",
    "print(\"2: Changing using slicing method: \", a)"
   ]
  },
  {
   "cell_type": "markdown",
   "metadata": {},
   "source": [
    "Appending and extending"
   ]
  },
  {
   "cell_type": "code",
   "execution_count": 12,
   "metadata": {},
   "outputs": [
    {
     "name": "stdout",
     "output_type": "stream",
     "text": [
      "1: A append b [1, 2, [3]]\n",
      "2: A extend b [1, 2, [3], 3]\n",
      "3: A append c [1, 2, [3], 3, 3]\n"
     ]
    }
   ],
   "source": [
    "#append and extend list\n",
    "a = [1, 2]\n",
    "b = [3]\n",
    "c = 3\n",
    "a.append(b)  #append whole list\n",
    "print(\"1: A append b\", a)\n",
    "a.extend(b) #extend the original list\n",
    "print(\"2: A extend b\", a)\n",
    "a.append(c)\n",
    "print(\"3: A append c\", a)\n",
    "#a.extend(c)# error because c is not iterable"
   ]
  },
  {
   "cell_type": "markdown",
   "metadata": {},
   "source": [
    "Sorting"
   ]
  },
  {
   "cell_type": "code",
   "execution_count": 13,
   "metadata": {},
   "outputs": [
    {
     "name": "stdout",
     "output_type": "stream",
     "text": [
      "1: Sorted [3, 19, 5]:  [3, 5, 19]\n",
      "2: Sorted ['Car', 'Apple', 'Boy']:  ['Apple', 'Boy', 'Car']\n",
      "3: Reverse:  None ['Car', 'Boy', 'Apple']\n"
     ]
    }
   ],
   "source": [
    "a = [3,19,5]\n",
    "b = [\"Car\", \"Apple\", \"Boy\"]\n",
    "a.sort()\n",
    "b.sort()  #try put argument reverse=True\n",
    "print(\"1: Sorted [3, 19, 5]: \", a)\n",
    "print(\"2: Sorted ['Car', 'Apple', 'Boy']: \", b)\n",
    "print(\"3: Reverse: \", b.reverse(), b)  #remember that b.reverse or sort is in place, and return None"
   ]
  },
  {
   "cell_type": "markdown",
   "metadata": {},
   "source": [
    "Checking presence"
   ]
  },
  {
   "cell_type": "code",
   "execution_count": 14,
   "metadata": {},
   "outputs": [
    {
     "name": "stdout",
     "output_type": "stream",
     "text": [
      "1: 3 in a? True\n",
      "2: 99 in a? False\n"
     ]
    }
   ],
   "source": [
    "print(\"1: 3 in a?\", 3 in a)\n",
    "print(\"2: 99 in a?\", 4 in a)"
   ]
  },
  {
   "cell_type": "markdown",
   "metadata": {},
   "source": [
    "Looping list"
   ]
  },
  {
   "cell_type": "code",
   "execution_count": 15,
   "metadata": {},
   "outputs": [
    {
     "name": "stdout",
     "output_type": "stream",
     "text": [
      "1: I:  0\n",
      "1: I:  1\n",
      "1: I:  2\n",
      "2: 8\n",
      "2: 9\n",
      "2: 10\n",
      "3: 8\n",
      "3: 9\n",
      "3: 10\n",
      "4: Index: 0; value: 8\n",
      "4: Index: 1; value: 9\n",
      "4: Index: 2; value: 10\n"
     ]
    }
   ],
   "source": [
    "for i in range(3): #does not include 10, start with 0\n",
    "    print(\"1: I: \", i)\n",
    "\n",
    "#given a list\n",
    "some_list = [8, 9, 10]\n",
    "\n",
    "for num in some_list:  #use in\n",
    "    print(\"2:\", num)\n",
    "\n",
    "for i in range(len(some_list)):  #use len (old guys love to do this!)\n",
    "    print(\"3:\", some_list[i])\n",
    "\n",
    "for ix, (value) in enumerate(some_list):\n",
    "    print(f\"4: Index: {ix}; value: {value}\")"
   ]
  },
  {
   "cell_type": "markdown",
   "metadata": {},
   "source": [
    "Set in list"
   ]
  },
  {
   "cell_type": "code",
   "execution_count": 16,
   "metadata": {},
   "outputs": [
    {
     "name": "stdout",
     "output_type": "stream",
     "text": [
      "1: Set a - i.e., no duplicates:  {'Bulbasaur', 'Squirtle', 'Charmander'}\n",
      "2: Set intersection:  {'Squirtle'}\n",
      "3: Set a - b:  {'Bulbasaur', 'Charmander'}\n",
      "4: Set b - a:  {'Pidgey', 'Caterpie'}\n",
      "5: Set (a-b) + (b-a):  {'Caterpie', 'Pidgey', 'Bulbasaur', 'Charmander'}\n",
      "6: Set (a-b) + (b-a):  {'Caterpie', 'Pidgey', 'Bulbasaur', 'Charmander'}\n",
      "7: Set a U b {'Charmander', 'Caterpie', 'Pidgey', 'Bulbasaur', 'Squirtle'}\n"
     ]
    }
   ],
   "source": [
    "list_a = ['Bulbasaur', 'Charmander', 'Squirtle', 'Charmander']\n",
    "list_b = ['Caterpie', 'Pidgey', 'Squirtle']\n",
    "set_a = set(list_a)\n",
    "print(\"1: Set a - i.e., no duplicates: \", set_a)\n",
    "set_b = set(list_b)\n",
    "\n",
    "#intersect; make sure to convert list to set first!\n",
    "print(\"2: Set intersection: \", set_a.intersection(set_b))\n",
    "print(\"3: Set a - b: \", set_a.difference(set_b))\n",
    "print(\"4: Set b - a: \", set_b.difference(set_a))\n",
    "print(\"5: Set (a-b) + (b-a): \", set_a.symmetric_difference(set_b))\n",
    "print(\"6: Set (a-b) + (b-a): \", set_b.symmetric_difference(set_a)) #same result both sides\n",
    "print(\"7: Set a U b\", set_a.union(set_b))  #remove any duplicate intersection"
   ]
  },
  {
   "cell_type": "markdown",
   "metadata": {},
   "source": [
    "Randomization in list"
   ]
  },
  {
   "cell_type": "code",
   "execution_count": 17,
   "metadata": {},
   "outputs": [
    {
     "name": "stdout",
     "output_type": "stream",
     "text": [
      "1: Some random list:  [8, 10, 9, 4, 3, 3, 7, 5, 6, 4]\n",
      "2: Suffled list:  [5, 2, 7, 9, 1, 0, 8, 3, 4, 6]\n",
      "3: Sampled 3 from a list:  [3, 0, 5]\n",
      "4: Choose 1 randomly from a list:  3\n",
      "5: Random choice to put in your algorithm:  apple\n"
     ]
    }
   ],
   "source": [
    "# Making random_list is also a common task in research\n",
    "import random\n",
    "\n",
    "some_rand_list = []\n",
    "\n",
    "for i in range(10):\n",
    "    some_rand_list.append(random.randint(1, 10))  #randint(a, b) return random integer N where a<=N<=b\n",
    "print(\"1: Some random list: \", some_rand_list)\n",
    "\n",
    "#Another way to random is to use shuffle\n",
    "a = list(range(10))\n",
    "random.shuffle(a)  #this is in place!  so it will return None!\n",
    "print(\"2: Suffled list: \", a)\n",
    "print(\"3: Sampled 3 from a list: \", random.sample(a, 3))\n",
    "print(\"4: Choose 1 randomly from a list: \", random.choice(a))\n",
    "\n",
    "#choice is useful for words, e.g., \n",
    "my_dictionary = ['fridge', 'pen', 'apple']\n",
    "print(\"5: Random choice to put in your algorithm: \", random.choice(my_dictionary))"
   ]
  },
  {
   "cell_type": "markdown",
   "metadata": {},
   "source": [
    "Itertools library"
   ]
  },
  {
   "cell_type": "code",
   "execution_count": 18,
   "metadata": {},
   "outputs": [
    {
     "name": "stdout",
     "output_type": "stream",
     "text": [
      "1: All possible permuations:  [('1', '2', '3'), ('1', '3', '2'), ('2', '1', '3'), ('2', '3', '1'), ('3', '1', '2'), ('3', '2', '1')]\n",
      "2: All possible pairs, ordered-sensitive:  [('1', '2'), ('1', '3'), ('2', '1'), ('2', '3'), ('3', '1'), ('3', '2')]\n",
      "3: All possible pairs, not ordered-sensitive:  [('1', '2'), ('1', '3'), ('2', '3')]\n"
     ]
    }
   ],
   "source": [
    "from itertools import permutations, combinations\n",
    "print(\"1: All possible permuations: \", list(permutations(['1','2','3'])))\n",
    "print(\"2: All possible pairs, ordered-sensitive: \", list(permutations(['1','2','3'],2)))\n",
    "print(\"3: All possible pairs, not ordered-sensitive: \", list(combinations(['1','2','3'], 2)))"
   ]
  },
  {
   "cell_type": "markdown",
   "metadata": {},
   "source": [
    "List comprehension"
   ]
  },
  {
   "cell_type": "code",
   "execution_count": 19,
   "metadata": {
    "scrolled": true
   },
   "outputs": [
    {
     "name": "stdout",
     "output_type": "stream",
     "text": [
      "1: [2, 3, 4]\n",
      "2: [3, 4, 5]\n"
     ]
    }
   ],
   "source": [
    "# [ expression for item in list if conditional ]\n",
    "#let's say i have this list\n",
    "x = [1, 2, 3]\n",
    "#I want to +1 to every element to the list, I can do\n",
    "for i in range(len(x)):\n",
    "    x[i] +=1\n",
    "print(\"1:\", x)\n",
    "#better yet - use list comprehension\n",
    "new_x = [num + 1 for num in x]  #remember to enclose with []!!\n",
    "print(\"2:\", new_x)"
   ]
  },
  {
   "cell_type": "markdown",
   "metadata": {},
   "source": [
    "Nested list"
   ]
  },
  {
   "cell_type": "code",
   "execution_count": 20,
   "metadata": {},
   "outputs": [
    {
     "name": "stdout",
     "output_type": "stream",
     "text": [
      "1: L1:  [1, [2, 3], [4, 5], [[6, 7], 8]]\n",
      "2: Length of L1:  4\n",
      "3: l1[3][1]:  8\n"
     ]
    }
   ],
   "source": [
    "l1 = [1,[2,3], [4,5], [[6, 7], 8]]\n",
    "print(\"1: L1: \", l1)\n",
    "print(\"2: Length of L1: \", len(l1))\n",
    "print(\"3: l1[3][1]: \", l1[3][1])"
   ]
  },
  {
   "cell_type": "markdown",
   "metadata": {},
   "source": [
    "### ===Task===\n",
    "\n",
    "1. Declare a string \"Python is cool\".  Get the first 6 letters \"Python\".\n",
    "\n",
    "2. Similarly, print the last 4 letters \"cool\".\n",
    "\n",
    "3. Print the \"is\"\n",
    "\n",
    "4. Declare a string \"malkahc\".  Print them reversely.\n",
    "\n",
    "5. Declare a string \"dffdfPkyktkhkokn\".  Print by skipping \"dffdf\", and then from that index onward, skip the even letters, i.e., the \"k\".  It should print \"Python\"\n",
    "\n",
    "6. Generate a list from 0 to 9\n",
    "\n",
    "7. Generate a list from 1 to 9 \n",
    "\n",
    "8. Generate a list from -9 to 9 skipping even numbers\n",
    "\n",
    "9. Continuing, append number 10 to list\n",
    "\n",
    "10. Continuing, check the index of number -1\n",
    "\n",
    "11. Continuing, check the length of list\n",
    "\n",
    "12. Continuing, remove the value \"10\"\n",
    "\n",
    "13. Continuing, remove whatever value at index 5\n",
    "\n",
    "14. Continuing, check whether number -20 is in the list\n",
    "\n",
    "15. Continuing, shuffle the list, and then perform sort()\n",
    "\n",
    "16. Continuing, print all the values of the list by looping them\n",
    "\n",
    "17. Continuing, randomly choose 1 value from the list\n",
    "\n",
    "18. Continuing, print all the posible paired-permutations\n",
    "\n",
    "19. Continuing, using list comprehension, add 1 to all value in the list\n",
    "\n",
    "20. Continuing, using a for loop + enumerate, print the value in the list, as well as their index\n",
    "\n",
    "21. Create two list of length 3. One list contains your friends name, and another list contains their makeup ID number.  Using zip, print the name along the ID number\n",
    "\n",
    "22. Create a list containing [1, 1, 2, 2].  Using set, print the unique values.  Then print the length of this unique set.\n",
    "\n",
    "23. See below code.  Print only the eeg signal and event separately from this nested list using (1) for loop, (2) list comprehension\n",
    "\n",
    "24. Continuing, print only the eeg signal with event = 2 using list comprehension"
   ]
  },
  {
   "cell_type": "code",
   "execution_count": 21,
   "metadata": {},
   "outputs": [
    {
     "name": "stdout",
     "output_type": "stream",
     "text": [
      "EEG signal:  [[[8, 9], 1], [[3, 3], 2], [[2, 3], 2]]\n"
     ]
    }
   ],
   "source": [
    "two_channel_eeg_signal1 = [8, 9]\n",
    "event1 = 1\n",
    "two_channel_eeg_signal2 = [3, 3]\n",
    "event2 = 2\n",
    "two_channel_eeg_signal3 = [2, 3]\n",
    "event3 = 2\n",
    "some_nested_list = []\n",
    "some_nested_list.append([two_channel_eeg_signal1, event1])\n",
    "some_nested_list.append([two_channel_eeg_signal2, event2])\n",
    "some_nested_list.append([two_channel_eeg_signal3, event3])\n",
    "print(\"EEG signal: \", some_nested_list)"
   ]
  },
  {
   "cell_type": "markdown",
   "metadata": {},
   "source": [
    "### Tuples"
   ]
  },
  {
   "cell_type": "markdown",
   "metadata": {},
   "source": [
    "Tuples are like lists, except that they cannot be modified once created, that is they are *immutable*. \n",
    "\n",
    "1. You can't add to tuples, so no extend or append\n",
    "2. You can't remove or insert, so no insert, remove, pop\n",
    "3. You can find, thus \"in\"  or indexing can be used\n",
    "4. Tuples are much faster than list\n",
    "\n",
    "*Make sense* to use tuples for write-protected data\n",
    "\n",
    "In Python, tuples are created using the syntax `(..., ..., ...)`, or even `..., ...`:"
   ]
  },
  {
   "cell_type": "markdown",
   "metadata": {},
   "source": [
    "Creating tuples"
   ]
  },
  {
   "cell_type": "code",
   "execution_count": 22,
   "metadata": {},
   "outputs": [
    {
     "name": "stdout",
     "output_type": "stream",
     "text": [
      "1:  (10, 20) <class 'tuple'>\n",
      "2:  (10, 20) <class 'tuple'>\n"
     ]
    }
   ],
   "source": [
    "point = (10, 20)\n",
    "point2 = 10, 20\n",
    "print(\"1: \", point, type(point))\n",
    "print(\"2: \", point2, type(point2))"
   ]
  },
  {
   "cell_type": "markdown",
   "metadata": {},
   "source": [
    "Unpacking tuples"
   ]
  },
  {
   "cell_type": "code",
   "execution_count": 23,
   "metadata": {},
   "outputs": [
    {
     "name": "stdout",
     "output_type": "stream",
     "text": [
      "1: x = 10\n",
      "2: y = 20\n"
     ]
    }
   ],
   "source": [
    "x, y = point\n",
    "print(\"1: x =\", x)\n",
    "print(\"2: y =\", y)"
   ]
  },
  {
   "cell_type": "markdown",
   "metadata": {},
   "source": [
    "Cannot change"
   ]
  },
  {
   "cell_type": "code",
   "execution_count": 24,
   "metadata": {},
   "outputs": [],
   "source": [
    "#point[0] = 20 #errors"
   ]
  },
  {
   "cell_type": "markdown",
   "metadata": {},
   "source": [
    "### Dictionaries"
   ]
  },
  {
   "cell_type": "markdown",
   "metadata": {},
   "source": [
    "Dictionaries are also like lists, except that each element is a key-value pair. The syntax for dictionaries is `{key1 : value1, ...}`:"
   ]
  },
  {
   "cell_type": "markdown",
   "metadata": {},
   "source": [
    "Creating"
   ]
  },
  {
   "cell_type": "code",
   "execution_count": 25,
   "metadata": {},
   "outputs": [
    {
     "name": "stdout",
     "output_type": "stream",
     "text": [
      "1:  <class 'dict'>\n",
      "2:  {'Pineapple': 12, 'Orange': 10, 'Apple': 15}\n"
     ]
    }
   ],
   "source": [
    "some_dict = {\"Pineapple\" : 12,\n",
    "          \"Orange\" : 10,\n",
    "          \"Apple\" : 15,}\n",
    "\n",
    "print(\"1: \", type(some_dict))\n",
    "print(\"2: \", some_dict)"
   ]
  },
  {
   "cell_type": "markdown",
   "metadata": {},
   "source": [
    "Accessing"
   ]
  },
  {
   "cell_type": "code",
   "execution_count": 26,
   "metadata": {},
   "outputs": [
    {
     "name": "stdout",
     "output_type": "stream",
     "text": [
      "1: Pineapple = 12\n",
      "2: Orange = 10\n",
      "3: Apple = 15\n"
     ]
    }
   ],
   "source": [
    "print(\"1: Pineapple = \" + str(some_dict[\"Pineapple\"]))\n",
    "print(\"2: Orange = \" + str(some_dict[\"Orange\"]))\n",
    "print(\"3: Apple = \" + str(some_dict[\"Apple\"]))"
   ]
  },
  {
   "cell_type": "markdown",
   "metadata": {},
   "source": [
    "Adding new key and value"
   ]
  },
  {
   "cell_type": "code",
   "execution_count": 27,
   "metadata": {},
   "outputs": [],
   "source": [
    "some_dict[\"Durian\"] = 50"
   ]
  },
  {
   "cell_type": "markdown",
   "metadata": {},
   "source": [
    "Looping in dictionary"
   ]
  },
  {
   "cell_type": "code",
   "execution_count": 28,
   "metadata": {},
   "outputs": [
    {
     "name": "stdout",
     "output_type": "stream",
     "text": [
      "1: Pineapple = 12\n",
      "1: Orange = 10\n",
      "1: Apple = 15\n",
      "1: Durian = 50\n",
      "2: Pineapple 12\n",
      "2: Orange 10\n",
      "2: Apple 15\n",
      "2: Durian 50\n",
      "3: Apple 15\n",
      "3: Durian 50\n",
      "3: Orange 10\n",
      "3: Pineapple 12\n",
      "4: 0 Pineapple 12\n",
      "4: 1 Orange 10\n",
      "4: 2 Apple 15\n",
      "4: 3 Durian 50\n"
     ]
    }
   ],
   "source": [
    "for key in some_dict:\n",
    "    print(\"1:\", key + \" = \" + str(some_dict[key]))\n",
    "\n",
    "#With items()\n",
    "for key, value in some_dict.items():\n",
    "    print(\"2:\", key, value)\n",
    "    \n",
    "#With sorted()\n",
    "for key, value in sorted(some_dict.items()):\n",
    "    print(\"3:\", key, value)\n",
    "    \n",
    "#With enumerate...remember that it will return as tuples for the pair\n",
    "for index, (key, value) in enumerate(some_dict.items()):\n",
    "    print(\"4:\", index, key, value)"
   ]
  },
  {
   "cell_type": "markdown",
   "metadata": {},
   "source": [
    "### ===Task===\n",
    "\n",
    "1. Create a tuple variable containing a person age, gender, and height, and then attempt to print the gender of the tuple variable.\n",
    "2. Create a dictionary of your age, name, gender, ID number.  Loop the dictionary and print the key - value."
   ]
  },
  {
   "cell_type": "markdown",
   "metadata": {},
   "source": [
    "### Functions"
   ]
  },
  {
   "cell_type": "markdown",
   "metadata": {},
   "source": [
    "A function in Python is defined using the keyword `def`, followed by a function name, a signature within parentheses `()`, and a colon `:`. The following code, with one additional level of indentation, is the function body."
   ]
  },
  {
   "cell_type": "code",
   "execution_count": 29,
   "metadata": {},
   "outputs": [],
   "source": [
    "def func0():   \n",
    "    print(\"test\")"
   ]
  },
  {
   "cell_type": "code",
   "execution_count": 30,
   "metadata": {},
   "outputs": [
    {
     "name": "stdout",
     "output_type": "stream",
     "text": [
      "test\n"
     ]
    }
   ],
   "source": [
    "func0()"
   ]
  },
  {
   "cell_type": "markdown",
   "metadata": {},
   "source": [
    "Functions that returns a value use the `return` keyword:"
   ]
  },
  {
   "cell_type": "code",
   "execution_count": 31,
   "metadata": {},
   "outputs": [],
   "source": [
    "def square(x):\n",
    "    \"\"\"\n",
    "    Return the square of x.\n",
    "    \"\"\"\n",
    "    return x ** 2"
   ]
  },
  {
   "cell_type": "code",
   "execution_count": 32,
   "metadata": {},
   "outputs": [
    {
     "data": {
      "text/plain": [
       "16"
      ]
     },
     "execution_count": 32,
     "metadata": {},
     "output_type": "execute_result"
    }
   ],
   "source": [
    "square(4)"
   ]
  },
  {
   "cell_type": "markdown",
   "metadata": {},
   "source": [
    "We can return multiple values from a function using tuples (see above):"
   ]
  },
  {
   "cell_type": "code",
   "execution_count": 33,
   "metadata": {},
   "outputs": [],
   "source": [
    "def powers(x):\n",
    "    \"\"\"\n",
    "    Return a few powers of x.\n",
    "    \"\"\"\n",
    "    return x ** 2, x ** 3, x ** 4"
   ]
  },
  {
   "cell_type": "code",
   "execution_count": 34,
   "metadata": {},
   "outputs": [
    {
     "data": {
      "text/plain": [
       "(9, 27, 81)"
      ]
     },
     "execution_count": 34,
     "metadata": {},
     "output_type": "execute_result"
    }
   ],
   "source": [
    "powers(3)"
   ]
  },
  {
   "cell_type": "code",
   "execution_count": 35,
   "metadata": {},
   "outputs": [
    {
     "name": "stdout",
     "output_type": "stream",
     "text": [
      "27\n"
     ]
    }
   ],
   "source": [
    "x2, x3, x4 = powers(3)\n",
    "\n",
    "print(x3)"
   ]
  },
  {
   "cell_type": "markdown",
   "metadata": {},
   "source": [
    "In a definition of a function, we can give default values to the arguments the function takes:"
   ]
  },
  {
   "cell_type": "code",
   "execution_count": 36,
   "metadata": {},
   "outputs": [],
   "source": [
    "def myfunc(x, p=2, debug=False):\n",
    "    if debug:\n",
    "        print(\"evaluating myfunc for x = \" + str(x) + \" using exponent p = \" + str(p))\n",
    "    return x**p"
   ]
  },
  {
   "cell_type": "markdown",
   "metadata": {},
   "source": [
    "If we don't provide a value of the `debug` argument when calling the the function `myfunc` it defaults to the value provided in the function definition:"
   ]
  },
  {
   "cell_type": "code",
   "execution_count": 37,
   "metadata": {},
   "outputs": [
    {
     "data": {
      "text/plain": [
       "25"
      ]
     },
     "execution_count": 37,
     "metadata": {},
     "output_type": "execute_result"
    }
   ],
   "source": [
    "myfunc(5)"
   ]
  },
  {
   "cell_type": "code",
   "execution_count": 38,
   "metadata": {},
   "outputs": [
    {
     "name": "stdout",
     "output_type": "stream",
     "text": [
      "evaluating myfunc for x = 5 using exponent p = 2\n"
     ]
    },
    {
     "data": {
      "text/plain": [
       "25"
      ]
     },
     "execution_count": 38,
     "metadata": {},
     "output_type": "execute_result"
    }
   ],
   "source": [
    "myfunc(5, debug=True)"
   ]
  },
  {
   "cell_type": "markdown",
   "metadata": {},
   "source": [
    "If we explicitly list the name of the arguments in the function calls, they do not need to come in the same order as in the function definition. This is called *keyword* arguments, and is often very useful in functions that takes a lot of optional arguments."
   ]
  },
  {
   "cell_type": "code",
   "execution_count": 39,
   "metadata": {},
   "outputs": [
    {
     "name": "stdout",
     "output_type": "stream",
     "text": [
      "evaluating myfunc for x = 7 using exponent p = 3\n"
     ]
    },
    {
     "data": {
      "text/plain": [
       "343"
      ]
     },
     "execution_count": 39,
     "metadata": {},
     "output_type": "execute_result"
    }
   ],
   "source": [
    "myfunc(p=3, debug=True, x=7)  #argument name must match that of the func!"
   ]
  },
  {
   "cell_type": "markdown",
   "metadata": {},
   "source": [
    "In Python we can also create unnamed functions, using the `lambda` keyword:"
   ]
  },
  {
   "cell_type": "code",
   "execution_count": 40,
   "metadata": {},
   "outputs": [],
   "source": [
    "f1 = lambda x: x**2\n",
    "    \n",
    "# is equivalent to \n",
    "\n",
    "def f2(x):\n",
    "    return x**2"
   ]
  },
  {
   "cell_type": "code",
   "execution_count": 41,
   "metadata": {},
   "outputs": [
    {
     "data": {
      "text/plain": [
       "(4, 4)"
      ]
     },
     "execution_count": 41,
     "metadata": {},
     "output_type": "execute_result"
    }
   ],
   "source": [
    "f1(2), f2(2)"
   ]
  },
  {
   "cell_type": "markdown",
   "metadata": {},
   "source": [
    "This technique is useful for example when we want to pass a simple function as an argument to another function, like this:"
   ]
  },
  {
   "cell_type": "code",
   "execution_count": 42,
   "metadata": {},
   "outputs": [
    {
     "data": {
      "text/plain": [
       "[9, 4, 1, 0, 1, 4, 9]"
      ]
     },
     "execution_count": 42,
     "metadata": {},
     "output_type": "execute_result"
    }
   ],
   "source": [
    "#Python map() function is used to apply a function on all the elements \n",
    "#of specified iterable and return map object. Python map object is an iterator, \n",
    "#so we can iterate over its elements\n",
    "list(map(lambda x: x**2, range(-3,4)))   #map(function, iterables)"
   ]
  },
  {
   "cell_type": "markdown",
   "metadata": {},
   "source": [
    "### ===Task===\n",
    "\n",
    "1. Given height = 5, perform a for loop and print\n",
    "   <code>\n",
    "   *\n",
    "   **\n",
    "   ***\n",
    "   ****\n",
    "   *****\n",
    "   </code>\n",
    "\n",
    "2. Given height = 5, perform a for loop and print\n",
    "   <code>\n",
    "   *****\n",
    "   ****\n",
    "   ***\n",
    "   **\n",
    "   *\n",
    "   </code>\n",
    "   \n",
    "3. Given height = 3, perform a for loop and print\n",
    "   <code>\n",
    "     *\n",
    "    ***\n",
    "   *****\n",
    "   </code>\n",
    "   \n",
    "4. Put the above code into a function def pyramid(height), with default height of 2\n",
    "5. Define a function <code>is_palindrome()</code> that recognizes palindromes (i.e. words that look the same written backwards). For example, <code>is_palindrome(\"radar\")</code> should return True.\n",
    "6. Create a function that removes duplicates from a given list\n",
    "7. Define a function <code>max()</code> that takes list of numbers as arguments and returns the largest of them.\n",
    "8. Generate a dictionary where the keys are numbers between 1 and 20 (both included) and the values are square of keys.\n",
    "9. Create a countdown clock that counts 3, 2, 1 and done! (hint: use <code>time.sleep(1)</code>)"
   ]
  },
  {
   "cell_type": "markdown",
   "metadata": {},
   "source": [
    "### Classes"
   ]
  },
  {
   "cell_type": "markdown",
   "metadata": {},
   "source": [
    "Classes are the key features of object-oriented programming. A class is a structure for representing an object and the operations that can be performed on the object. \n",
    "\n",
    "In Python a class can contain *attributes* (variables) and *methods* (functions).\n",
    "\n",
    "A class is defined almost like a function, but using the `class` keyword, and the class definition usually contains a number of class method definitions (a function in a class).\n",
    "\n",
    "* **Each class method should have an argument `self` as it first argument. This object is a self-reference.**\n",
    "\n",
    "* Some class method names have special meaning, for example:\n",
    "\n",
    "    * `__init__`: The name of the method that is invoked when the object is first created.\n",
    "    * `__str__` : A method that is invoked when a simple string representation of the class is needed, as for example when printed.\n",
    "    * There are many more, see http://docs.python.org/2/reference/datamodel.html#special-method-names"
   ]
  },
  {
   "cell_type": "code",
   "execution_count": 43,
   "metadata": {},
   "outputs": [],
   "source": [
    "class Point:\n",
    "    \"\"\"\n",
    "    Simple class for representing a point in a Cartesian coordinate system.\n",
    "    \"\"\"\n",
    "    \n",
    "    def __init__(self, x, y):\n",
    "        \"\"\"\n",
    "        Create a new Point at x, y.\n",
    "        \"\"\"\n",
    "        self.x = x\n",
    "        self.y = y\n",
    "        \n",
    "    def translate(self, dx, dy):\n",
    "        \"\"\"\n",
    "        Translate the point by dx and dy in the x and y direction.\n",
    "        \"\"\"\n",
    "        self.x += dx\n",
    "        self.y += dy\n",
    "        \n",
    "    def __str__(self):\n",
    "        return(\"Point at [%f, %f]\" % (self.x, self.y))"
   ]
  },
  {
   "cell_type": "markdown",
   "metadata": {},
   "source": [
    "To create a new instance of a class:"
   ]
  },
  {
   "cell_type": "code",
   "execution_count": 44,
   "metadata": {},
   "outputs": [
    {
     "name": "stdout",
     "output_type": "stream",
     "text": [
      "1:  Point at [0.000000, 0.000000]\n"
     ]
    }
   ],
   "source": [
    "p1 = Point(0, 0) # this will invoke the __init__ method in the Point class\n",
    "\n",
    "print(\"1: \", p1)         # this will invoke the __str__ method"
   ]
  },
  {
   "cell_type": "markdown",
   "metadata": {},
   "source": [
    "To invoke a class method in the class instance `p`:"
   ]
  },
  {
   "cell_type": "code",
   "execution_count": 45,
   "metadata": {},
   "outputs": [
    {
     "name": "stdout",
     "output_type": "stream",
     "text": [
      "1:  Point at [0.250000, 1.500000]\n",
      "2:  Point at [1.000000, 1.000000]\n"
     ]
    }
   ],
   "source": [
    "p2 = Point(1, 1)\n",
    "\n",
    "p1.translate(0.25, 1.5)\n",
    "\n",
    "print(\"1: \", p1)\n",
    "print(\"2: \", p2)"
   ]
  },
  {
   "cell_type": "markdown",
   "metadata": {},
   "source": [
    "Another example"
   ]
  },
  {
   "cell_type": "code",
   "execution_count": 46,
   "metadata": {},
   "outputs": [
    {
     "name": "stdout",
     "output_type": "stream",
     "text": [
      "1: Radius is:  1\n",
      "2: Area is:  3.14\n",
      "3: Circumference is:  6.28\n"
     ]
    }
   ],
   "source": [
    "class Circle:\n",
    "    pi = 3.14\n",
    "\n",
    "    # Circle gets instantiated with a radius (default is 1)\n",
    "    def __init__(self, radius=1):\n",
    "        self.radius = radius \n",
    "        self.area = radius * radius * Circle.pi\n",
    "\n",
    "    # Method for resetting Radius\n",
    "    def setRadius(self, new_radius):\n",
    "        self.radius = new_radius\n",
    "        self.area = new_radius * new_radius * self.pi\n",
    "\n",
    "    # Method for getting Circumference\n",
    "    def getCircumference(self):\n",
    "        return self.radius * self.pi * 2\n",
    "\n",
    "\n",
    "c = Circle()\n",
    "\n",
    "print('1: Radius is: ',c.radius)\n",
    "print('2: Area is: ',c.area)\n",
    "print('3: Circumference is: ',c.getCircumference()) "
   ]
  },
  {
   "cell_type": "markdown",
   "metadata": {},
   "source": [
    "### ===Task===\n",
    "\n",
    "1. Create a class for Rectangle with function of setHeight(), setWidth(), and getArea()."
   ]
  }
 ],
 "metadata": {
  "kernelspec": {
   "display_name": "Python 3",
   "language": "python",
   "name": "python3"
  },
  "language_info": {
   "codemirror_mode": {
    "name": "ipython",
    "version": 3
   },
   "file_extension": ".py",
   "mimetype": "text/x-python",
   "name": "python",
   "nbconvert_exporter": "python",
   "pygments_lexer": "ipython3",
   "version": "3.8.6"
  }
 },
 "nbformat": 4,
 "nbformat_minor": 1
}

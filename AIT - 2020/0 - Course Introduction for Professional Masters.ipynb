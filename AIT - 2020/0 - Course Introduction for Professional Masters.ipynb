{
 "cells": [
  {
   "cell_type": "markdown",
   "metadata": {},
   "source": [
    "# Programming for Data Science\n",
    "\n",
    "## 0 Course Introduction"
   ]
  },
  {
   "cell_type": "markdown",
   "metadata": {},
   "source": [
    "* My name is Chaklam.  Born Hong Kong.  Research Interests on Neuroscience and Machine Learning.  Welcome you all!\n",
    "\n",
    "* All materials can be found on my **Github - https://github.com/chaklam-silpasuwanchai/Python-for-DS-AI-Professional-Masters/**.\n",
    "\n",
    "### Setting up your Python and Jupyter\n",
    "\n",
    "* Use **python3** as interpreter.\n",
    "\n",
    "* User **jupyter notebook** as the main IDE.  Read https://github.com/chaklam-silpasuwanchai/Python-for-DS-AI-Professional-Masters/blob/master/Prerequisites/0%20-%20Installation.md  for installation guide.\n",
    "\n",
    "\n",
    "### Pre-requisites / Expectations\n",
    "    \n",
    "* All pre-requisites materials are listed at https://github.com/chaklam-silpasuwanchai/Python-for-DS-AI-Professional-Masters/tree/master/Prerequisites\n",
    "\n",
    "### Objectives\n",
    "\n",
    "- Able to **code python fluently**. Students should be able to write python in a \"clean\", \"efficient\", and \"pythonic\" way.\n",
    "\n",
    "- Understand the **four key python libraries** of data science, i.e., numpy, pandas, matplotlib and sklearn.  \n"
   ]
  },
  {
   "cell_type": "markdown",
   "metadata": {},
   "source": [
    "### Grading Percentage\n",
    "\n",
    "- Midterm Exam: 30\\%\n",
    "- Final Project: 30\\%\n",
    "- Final Exam: 40\\%"
   ]
  },
  {
   "cell_type": "markdown",
   "metadata": {},
   "source": [
    "### Course Outline\n",
    "\n",
    "- L1 (Mar 5) Intro to Python I\n",
    "- L2 (Mar 6) Intro to Python II\n",
    "- L3 (Mar 7) Numpy I\n",
    "- L4 (Mar 12) Numpy II\n",
    "- L5 (Mar 13) Pandas I\n",
    "- L6 (Mar 14) Pandas II\n",
    "- L7 (Mar 19) Matplotlib\n",
    "- L8 (Mar 20) Sklearn I - Overview, APIs\n",
    "- L9 (Mar 27 9-12h) **Midterm exam**\n",
    "- L10 (Apr 3) Sklearn II - Regression\n",
    "- L11 (Apr 10) Sklearn III - Classification\n",
    "- L12 (Apr 17) Sklearn IV - Dimensionality Reduction\n",
    "- L13 (Apr 24) Sklearn V - Clustering\n",
    "- L14 (May 8 9-12h) **Final exam**\n",
    "- L15 (May 8 13-16h) **Final project presentation** "
   ]
  },
  {
   "cell_type": "markdown",
   "metadata": {},
   "source": [
    "### Midterm and Final\n",
    "\n",
    "* Mid-term and final exams will be **open book, open internet**, practical exams\n",
    "* No makeup exams are allowed"
   ]
  },
  {
   "cell_type": "markdown",
   "metadata": {},
   "source": [
    "### Project\n",
    "\n",
    "* First find a **dataset** you are interested\n",
    "* Perform **exploratory data analysis** using pandas, matplotlib and numpy\n",
    "* Perform **data analytics** using sklearn or pyTorch\n",
    "\n",
    "**Grading** - The grading will be judged based on the novelty and creativity of the problem, and the technical quality of the work.\n",
    "\n",
    "**Deliverable** - None.  You just have to present your jupyter notebook during the final project presentation.  Each presentation is 15 minutes."
   ]
  },
  {
   "cell_type": "markdown",
   "metadata": {},
   "source": [
    "### Resources\n",
    "\n",
    "* Reference books:\n",
    "    - [GERON] Geron, A. **Hands-On Machine Learning with Scikit-Learn and TensorFlow: Concepts, Tools, and Techniques to Build Intelligent Systems**, 2019 (2nd edition) (https://github.com/ageron/handson-ml2)\n",
    "    - [VANDER] VanderPlas, J. **Python Data Science Handbook: Essential Tools for Working with Data**, 2016 (1st edition) (https://jakevdp.github.io/PythonDataScienceHandbook/)\n",
    "    - [HASTIE] Hastie, T., Tibshirani, R., and Friedman, J. **The Elements of Statistical Learning: Data Mining, Inference, and Prediction**, 2016 (2nd edition) (https://web.stanford.edu/~hastie/Papers/ESLII.pdf_)\n",
    "    \n",
    "* Online resources:\n",
    "    - Python tutorials available online: https://docs.python.org/3/tutorial/\n",
    "    - Jupyter notebook tutorials available online: https://ipython.org/documentation.html\n",
    "    - Numpy tutorials available online:https://numpy.org/doc/stable/\n",
    "    - Pandas tutorials available online: https://pandas.pydata.org/docs/\n",
    "    - Matplotlib tutorials available online: https://matplotlib.org/contents.html\n",
    "    - Scikit-learn tutorials available online: https://scikit-learn.org/stable/user_guide.html"
   ]
  },
  {
   "cell_type": "code",
   "execution_count": null,
   "metadata": {},
   "outputs": [],
   "source": []
  }
 ],
 "metadata": {
  "kernelspec": {
   "display_name": "Python 3",
   "language": "python",
   "name": "python3"
  },
  "language_info": {
   "codemirror_mode": {
    "name": "ipython",
    "version": 3
   },
   "file_extension": ".py",
   "mimetype": "text/x-python",
   "name": "python",
   "nbconvert_exporter": "python",
   "pygments_lexer": "ipython3",
   "version": "3.8.6"
  }
 },
 "nbformat": 4,
 "nbformat_minor": 1
}
